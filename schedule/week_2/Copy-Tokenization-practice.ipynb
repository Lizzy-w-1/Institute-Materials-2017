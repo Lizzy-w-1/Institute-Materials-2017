{
 "cells": [
  {
   "cell_type": "markdown",
   "metadata": {},
   "source": [
    "# Tokenization\n",
    "\n",
    "## Default tokenization\n",
    "\n",
    "Tokenization (the first of the five parts of the [Gothenburg model](http://wiki.tei-c.org/index.php/Textual_Variance#The_.E2.80.9CGothenburg_model.E2.80.9D:_A_modular_architecture_for_computer-aided_collation)) divides the texts to be collated into *tokens*, which are most commonly (but not obligatorily) words. By default CollateX considers punctuation to be its own token, which means that the witness readings “Hi!” and “Hi” will both contain a token that reads “Hi” (and the first witness will contain an additional token, which reads “!”). In this situation, that’s the behavior the user probably wants, since both witnesses contain what a human would recognize as the same word.\n",
    "\n",
    "We are going to be using the CollateX library to demonstrate tokenization, so let's go ahead and import it."
   ]
  },
  {
   "cell_type": "code",
   "execution_count": 1,
   "metadata": {
    "collapsed": true
   },
   "outputs": [],
   "source": [
    "from collatex import *"
   ]
  },
  {
   "cell_type": "markdown",
   "metadata": {},
   "source": [
    "## Issues with default tokenization\n",
    "\n",
    "But is a word like “Peter’s” the same word as “Peter” for collation purposes? Because CollateX will regard the apostrophe as a separate token, “Peter’s” will be tokenized as three tokens: the name, the apostrophe, and the possessive. Here’s the default behavior:"
   ]
  },
  {
   "cell_type": "code",
   "execution_count": 2,
   "metadata": {
    "scrolled": true
   },
   "outputs": [
    {
     "name": "stdout",
     "output_type": "stream",
     "text": [
      "+---+-------+---+---+-----+---+\n",
      "| A | Peter | ' | s | cat | . |\n",
      "| B | Peter | ' | s | dog | . |\n",
      "+---+-------+---+---+-----+---+\n"
     ]
    }
   ],
   "source": [
    "collation = Collation()\n",
    "collation.add_plain_witness(\"A\", \"Peter's cat.\")\n",
    "collation.add_plain_witness(\"B\", \"Peter's dog.\")\n",
    "table = collate(collation, segmentation=False)\n",
    "print(table)"
   ]
  },
  {
   "cell_type": "markdown",
   "metadata": {},
   "source": [
    "For possessives that may be acceptable behavior, but how about contractions like “didn’t” or “A’dam” (short for “Amsterdam”)? If the default tokenization does what you need, so much the better, but if not, you can override it according to your own requirements. Below we describe what CollateX does by default and how to override that behavior and perform your own tokenization.\n",
    "\n",
    "## How CollateX tokenizes: default behavior\n",
    "The default tokenizer built into CollateX defines a token as a string of either alphanumeric characters (in any writing system) or non-alphanumeric characters, in both cases including any (optional) trailing whitespace. This means that the input reading “Peter’s cat.” will be analyzed as consisting of five tokens: “Peter” plus “’” plus “s ” plus “cat” plus “.”. For alignment purposes CollateX ignores any trailing white space, so that “cat” in “The cat in the hat” would be tokenzied as “cat ” (with a trailing space), but for collation purposes it would match the “cat” in “Peter’s cat.”, which has no trailing space because it’s followed by a period.\n",
    "\n",
    "If we need to override the default tokenization behavior, we can create our own tokenized input and tell CollateX to use that, instead of letting CollateX perform the tokenization itself prior to collation.\n",
    "\n",
    "## Doing your own tokenization\n",
    "In a way that is consistent with the modular design of the Gothenburg model, CollateX permits the user to change the tokenization without having to change the other parts of the collation process. Since the tokenizer passes to CollateX the indivisible units that are to be aligned, performing our own collation means specifying those units on our own. We will now look at how we can split a text into tokens the way we prefer."
   ]
  },
  {
   "cell_type": "markdown",
   "metadata": {},
   "source": [
    "## Automating the tokenization\n",
    "In the example above we built our token list by hand, but that obviously isn’t scalable to a real project with more than a handful of words. Let’s enhance the code above so that it builds the token lists for us by tokenizing the input strings according to our requirements. This is where projects have to identify and formalize their own specifications, since, unfortunately, there is no direct way to tell Python to read your mind and “keep punctuation with adjacent letters when I want it there, but not when I don’t.” For this example, we’ll write a tokenizer that breaks a string first on white space (which would give us two tokens: “Peter’s” and “cat.”) and then, within those intermediate tokens, on *final* punctuation (separating the final period from “cat” but not breaking on the internal apostrophe in “Peter’s”). This strategy would also keep English-language contractions together as single tokens, but as we’ve written it, it wouldn’t separate a leading quotation mark from a word token, although that’s a behavior we’d probably want. In Real Life we might fine-tune the routine still further, but for this tutorial we’ll prioritize just handling the sample data.\n",
    "\n",
    "### Splitting on white space and then separating final but not internal punctuation\n",
    "To develop our tokenization, let’s start with:"
   ]
  },
  {
   "cell_type": "code",
   "execution_count": 3,
   "metadata": {},
   "outputs": [
    {
     "name": "stdout",
     "output_type": "stream",
     "text": [
      "Peter's cat.\n"
     ]
    }
   ],
   "source": [
    "input = \"Peter's cat.\"\n",
    "print(input)"
   ]
  },
  {
   "cell_type": "markdown",
   "metadata": {},
   "source": [
    "and split it into a list of whitespace-separated words with the Python [`re`](https://docs.python.org/3/library/re.html#re.split) library, which we will import here so that we can use it below."
   ]
  },
  {
   "cell_type": "code",
   "execution_count": 4,
   "metadata": {
    "collapsed": true
   },
   "outputs": [],
   "source": [
    "import re\n",
    "#input = open(\"/Users/ewilliamson.FOLGER2000/GitWorkspace/Institute-Materials-2017/schedule/week_2/Print-UntonCorres-lres.txt\", encoding='utf-8').read()\n",
    "#print(input)\n",
    "#words = re.split(r'\\s+', input)\n",
    "#print(words)"
   ]
  },
  {
   "cell_type": "code",
   "execution_count": 10,
   "metadata": {},
   "outputs": [
    {
     "name": "stdout",
     "output_type": "stream",
     "text": [
      "<?xml version=\"1.0\" encoding=\"UTF-8\"?>\n",
      "<?xml-model href=\"file:/C:/Users/ewilliamson.FOLGER2000/Desktop/UntonEdition/tei_ms.rng\" type=\"application/xml\" schematypens=\"http://relaxng.org/ns/structure/1.0\"?>\n",
      "<TEI xmlns=\"http://www.tei-c.org/ns/1.0\">\n",
      "<teiHeader>\n",
      "  <fileDesc>\n",
      "    <titleStmt><title>Correspondence of Sir Henry Unton, knt., ambassador from Queen Elizabeth to Henry IV. king of France, in the years MDXCI. and MDXCII</title>\n",
      "    </titleStmt>\n",
      "    <publicationStmt>\n",
      "      <p>Under development.</p>\n",
      "          </publicationStmt>\n",
      "    <sourceDesc>\n",
      "      <p>Converted initially by pandoc from txt to xml.</p><p>Edited text from The Internet Archive's OCR version of Cornell University Library's copy of the Unton Correspondence (DA 350.U61). <ref target=\"http://www.archive.org/details/cu31924027964471\">See more.</ref></p>\n",
      "    </sourceDesc>\n",
      "  </fileDesc>\n",
      "</teiHeader>\n",
      "<text>\n",
      "<body>\n",
      "<p>1591, July 24.</p>\n",
      "<p>Instructions for Sir Henry Unton, Knight, ordered\n",
      "<lb/>and sent to be the Queene's Ambassador with the \n",
      "<lb/>ELIZABETH R. French Kinge to whom her Majes<abbr type=\"superscript\">ties</abbr> hath written\n",
      "her \n",
      "<lb/>letters of credence with the said Sir Henry Unton, \n",
      "<lb/>which he shall at his first accesse present to the Kinge, \n",
      "<lb/>dated the xxiiij<abbr type=\"superscript\">th</abbr> of July, 1591. \n",
      "<lb/>The authoritie which you shall have to be our ambassador to the\n",
      "French \n",
      "<lb/>Kinge shall be warranted by our speciall letters unto the Kinge,\n",
      "signifiinge that \n",
      "<lb/>we have made speciall choise of you to have that place ; and\n",
      "requiringe the \n",
      "<lb/>Kinge to credit you in all such thinges as you shall by our\n",
      "commandement, or \n",
      "<lb/>in our name propounde, declare, or require ; as he would give credit\n",
      "to our \n",
      "<lb/>seLfe. And therfore we doubte not but you will advisedly consider at\n",
      "all \n",
      "<lb/>tymes by your wisdome, gravitie and temperance, to order all your\n",
      "actions, \n",
      "<lb/>not only in your accesses and speches with the Kinge, but also have\n",
      "good \n",
      "<lb/>regarde in all other your behavioiu's and conversations with all\n",
      "persons, to \n",
      "<lb/>preserve the estimacion of us and our royal dignitie, as our\n",
      "ambassador, and, \n",
      "<lb/>in a certain manner, representinge our person.</p>\n",
      "<p>For the first and principall pointe of your charge, you shall in noe\n",
      "one thinge better performe your dutie and uphold your reputacon, then in\n",
      "ob- servinge of the rites of religion, and in service of God to foUowe\n",
      "the forme of Common Dailey Prayers, bothe by your selfe and houshold,\n",
      "accordinge to the Church of England, as it is established by lawe ;\n",
      "wherby you may appeare abroade to be a dutiful subjecte to the lawes of\n",
      "your naturall coun trey, without impugninge or contendinge with the\n",
      "rites and usages of the Church of France,</p>\n",
      "<p>' The original instructions signed by Lord Burghley are in the Cott.\n",
      "MS. Calig. E. viii. fol. 194. Another copy is in the same volume, fol.\n",
      "69, and n third in the State Paper OflBce. See Rymer's Feed. xvi. 103.\n",
      "Sir Henry's allowance was fixed at £4 6 8 per diem.</p>\n",
      "<p>B</p>\n",
      "<p>2 [July,</p>\n",
      "<p>as matters not aperteyninge to your charge. And yett if you shall\n",
      "have cause to be with the Kinge at any time when he shalbe att any\n",
      "service/ you shall not refuse to attende uppon him.</p>\n",
      "<p>You shall also have regard to mainteine the dignitie of us and our\n",
      "crowne in all assembhes and proceedinges for your place and precedencie,\n",
      "as in right to geive place to noe other princes' ambassadors, but to the\n",
      "emperor's, for in truthe none ells but a French Kinge out to have place\n",
      "before us.</p>\n",
      "<p>Item, you shall seeke to acquainte your selfe with the ambassadors of\n",
      "Venice and of the duke of Florence, whose superiors and lords do\n",
      "professe good friendshippe towards us ; and by them you shall come to\n",
      "intelligencies of the affaires of Itallye, as of the Pope's and the\n",
      "Kinge of Spaine's, and ther confederates, and you shall use to acquainte\n",
      "them with all good occurrences which you shall receive of our\n",
      "proceadinges ; and, as you shall see cause, to satisfye them also with\n",
      "the truthe of our actions, contrary unto the untreue slanders of our\n",
      "enemies and rebells.</p>\n",
      "<p>If any shall come to the French Kinge from the Kinge of Scottes, the\n",
      "Kinge of Denmarke, or from any of the Protestant Princes of the Empire,\n",
      "or from the Protestant Cantons, you shall by your conferences with them\n",
      "let them severally understand how freindly we doe make accounte of their\n",
      "superiors and lordes.</p>\n",
      "<p>You shall have good regarde to all negotiacions that male be under\n",
      "hande attempted to make accorde or abstinences of warres betwixte France\n",
      "and Spayne.</p>\n",
      "<p>You shall receive informacion by our Treasurer of England, as one ac-\n",
      "quainted there with, of the principall pointes of such treaties and\n",
      "leagues for amitie as are extant betweene us and that crowne, and also\n",
      "for entercourse and traffique betweene our subjects for marchandise ; ^\n",
      "and you shall endeavour your selfe to see the same duely observed, and\n",
      "at all tymes to procure that our subjectes male enjoye their trade with\n",
      "out oppression by any innovacion of taxes contrary to former usage. And\n",
      "if you shall heare of any complaintes of the Frenche Kinges subjectes\n",
      "for any wronges or prises committed by any our subjectes, you shall\n",
      "offer to enforme us or our Counsell therof, and so procure them justice\n",
      "with favor and expedition.</p>\n",
      "<p>You shall also be informed by our said Treasurer what greate sommes\n",
      "of money and what municions we have, by waie of imprestinge, yealded to\n",
      "the</p>\n",
      "<p>' Sermon, Rymer. ^ See the document appended to thjs letter, p.\n",
      "4.</p>\n",
      "<p>A. D. 1591.] 3</p>\n",
      "<p>saide Kinge since he came to the crowne, and how the same is dewe to\n",
      "us i so as when you shall have occasion offered to speake thereof, you\n",
      "may with certeinty declare the truth therof, and geive cause for the\n",
      "French Kinge and his counsell to acknowledge the greatness of our\n",
      "friendshipp, having without respecte of our oune estate yealded him such\n",
      "aides as never any King hath done the like to any other. And yett you\n",
      "shall not move this by way of expostulacon, or to move any unkindness\n",
      "therby, by the remembrance of our benefittes. And you shall also be\n",
      "enformed of certeine articles of covenants lately made by the Kinges\n",
      "ambassador, by authoritie of the Kinges comission, howe we shalbe\n",
      "reemboursed the saide sommes.</p>\n",
      "<p>You shall also consider what speciall service you may doe to us in\n",
      "havinge regard to the actions of our cosen the earle of Essex, our\n",
      "heutennant generall of our forces, givinge him understandinge from tyme\n",
      "to tyme, what judgement is had of his actions, approvinge to him such as\n",
      "are good, and such as you shall knowe or heare to be commended ; and\n",
      "informing him of such thinges as you shall understand to be contrary,\n",
      "givinge him good advice to reforme the same ; and in soe doinge you\n",
      "shall please us, and therby performe the duty of a good servante and the\n",
      "office of a pubUcke minister, being ther as our ambassador ; and in\n",
      "truthe you shall give him cause to love you, though hapelie comonly\n",
      "younge noblemen at the first doe not imbrace advertisements of thinges\n",
      "to be reformed. But we charge you uppon your duty, not for any such\n",
      "respecte to forbeare to deale plainly in honorable sorte with the saide\n",
      "earle.</p>\n",
      "<p>You shall use all good diUgence to understande in what places of\n",
      "France any of our subjectes, beinge rebelles or fugitives, shall remaine\n",
      "; and procure to the best of your power that they may be by the Kinges\n",
      "meanes taken ; and specially uppon the takinge of any towne by the\n",
      "Kinge, wherin any English- men shalbe founde, earnestly to require them\n",
      "to be taken, if they be rebells or fugitives. Or if they shalbe founde\n",
      "to have been taken prisoners in those townes, and not to have passed out\n",
      "of our realme as fugitives, you shall also procure their deUvery, and of\n",
      "your doings herin to give advertisement.</p>\n",
      "<p>Item, after you have anie good knowledge of such of the Kinges\n",
      "counseU, or of any other men of quality serving the King, whom you shall\n",
      "understand to be wise and well affected in religion, you shall require of\n",
      "them wherin you may further the cause of reUgion by dealinge with the\n",
      "French Kinge ; for that</p>\n",
      "<p>' See the document printed, p. 6.</p>\n",
      "<p>4 [July,</p>\n",
      "<p>we are enformed that thoughe the Kinge hathe taken manie townes and\n",
      "places of charge from his rebells, yett the matter is so handled by the\n",
      "Catholickes as few or none of such as have been dutiftill servantes to\n",
      "the King of longe tyme, and are knowen to be of the religion, are placed\n",
      "in any of those places, wherby the Kinge can be so sure of the said\n",
      "places, and yett his most trustie servantes comforted or releived. And\n",
      "if you shall find this to be treue, uppon confe- rence with persons of\n",
      "understandinge, you shall take convenient tyme to imparte this to the\n",
      "Kinge, as so directed bi us, and earnestly move him to remedie this ;\n",
      "wherin you shall doe weU, and soe deale as the counsellors professinge\n",
      "the Catholicke relligion male understand your doinges therin.</p>\n",
      "<p>For your first accesse to the Kinge, consideringe we have no minister\n",
      "of our's to procure your audience and to present you to the Kinge, you\n",
      "shall have letters from the French ambassadour here resident, either to\n",
      "the Kinge him selfe, or to some of the principaU. of his counsell to\n",
      "procure for you bothe accesse and audience, and for your continewance\n",
      "their afterwardes to have audience, Sir Edward Stafford ^ shall enforme\n",
      "you howe he was accus- tomed to doe.2</p>\n",
      "<p>W. BUBGHLBY. *</p>\n",
      "</body>\n",
      "</text>\n",
      "</TEI>\n",
      "\n"
     ]
    }
   ],
   "source": [
    "with open(\"/Users/ewilliamson.FOLGER2000/GitWorkspace/Institute-Materials-2017/schedule/week_2/Print-UntonInstructions.xml\", \n",
    "          encoding='utf-8') as fh:\n",
    "    contents = fh.read()\n",
    "print(contents)"
   ]
  },
  {
   "cell_type": "markdown",
   "metadata": {},
   "source": [
    "Now let’s treat final punctuation as a separate token without splitting on internal punctuation:"
   ]
  },
  {
   "cell_type": "code",
   "execution_count": 11,
   "metadata": {},
   "outputs": [
    {
     "name": "stdout",
     "output_type": "stream",
     "text": [
      "[['<?xml'], ['version=\"1.0', '\"'], ['encoding=\"UTF-8', '\"?>'], ['<?xml-model'], ['href=\"file:/C:/Users/ewilliamson.FOLGER2000/Desktop/UntonEdition/tei_ms.rng', '\"'], ['type=\"application/xml', '\"'], ['schematypens=\"http://relaxng.org/ns/structure/1.0', '\"?>'], ['<TEI'], ['xmlns=\"http://www.tei-c.org/ns/1.0', '\">'], ['<teiHeader', '>'], ['<fileDesc', '>'], ['<titleStmt><title>Correspondence'], ['of'], ['Sir'], ['Henry'], ['Unton', ','], ['knt', '.,'], ['ambassador'], ['from'], ['Queen'], ['Elizabeth'], ['to'], ['Henry'], ['IV', '.'], ['king'], ['of'], ['France', ','], ['in'], ['the'], ['years'], ['MDXCI', '.'], ['and'], ['MDXCII</title', '>'], ['</titleStmt', '>'], ['<publicationStmt', '>'], ['<p>Under'], ['development.</p', '>'], ['</publicationStmt', '>'], ['<sourceDesc', '>'], ['<p>Converted'], ['initially'], ['by'], ['pandoc'], ['from'], ['txt'], ['to'], ['xml.</p><p>Edited'], ['text'], ['from'], ['The'], ['Internet'], [\"Archive's\"], ['OCR'], ['version'], ['of'], ['Cornell'], ['University'], [\"Library's\"], ['copy'], ['of'], ['the'], ['Unton'], ['Correspondence'], ['(DA'], ['350.U61', ').'], ['<ref'], ['target=\"http://www.archive.org/details/cu31924027964471\">See'], ['more.</ref></p', '>'], ['</sourceDesc', '>'], ['</fileDesc', '>'], ['</teiHeader', '>'], ['<text', '>'], ['<body', '>'], ['<p>1591', ','], ['July'], ['24.</p', '>'], ['<p>Instructions'], ['for'], ['Sir'], ['Henry'], ['Unton', ','], ['Knight', ','], ['ordered'], ['<lb/>and'], ['sent'], ['to'], ['be'], ['the'], [\"Queene's\"], ['Ambassador'], ['with'], ['the'], ['<lb/>ELIZABETH'], ['R', '.'], ['French'], ['Kinge'], ['to'], ['whom'], ['her'], ['Majes<abbr'], ['type=\"superscript\">ties</abbr', '>'], ['hath'], ['written'], ['her'], ['<lb/>letters'], ['of'], ['credence'], ['with'], ['the'], ['said'], ['Sir'], ['Henry'], ['Unton', ','], ['<lb/>which'], ['he'], ['shall'], ['at'], ['his'], ['first'], ['accesse'], ['present'], ['to'], ['the'], ['Kinge', ','], ['<lb/>dated'], ['the'], ['xxiiij<abbr'], ['type=\"superscript\">th</abbr', '>'], ['of'], ['July', ','], ['1591', '.'], ['<lb/>The'], ['authoritie'], ['which'], ['you'], ['shall'], ['have'], ['to'], ['be'], ['our'], ['ambassador'], ['to'], ['the'], ['French'], ['<lb/>Kinge'], ['shall'], ['be'], ['warranted'], ['by'], ['our'], ['speciall'], ['letters'], ['unto'], ['the'], ['Kinge', ','], ['signifiinge'], ['that'], ['<lb/>we'], ['have'], ['made'], ['speciall'], ['choise'], ['of'], ['you'], ['to'], ['have'], ['that'], ['place'], [';'], ['and'], ['requiringe'], ['the'], ['<lb/>Kinge'], ['to'], ['credit'], ['you'], ['in'], ['all'], ['such'], ['thinges'], ['as'], ['you'], ['shall'], ['by'], ['our'], ['commandement', ','], ['or'], ['<lb/>in'], ['our'], ['name'], ['propounde', ','], ['declare', ','], ['or'], ['require'], [';'], ['as'], ['he'], ['would'], ['give'], ['credit'], ['to'], ['our'], ['<lb/>seLfe', '.'], ['And'], ['therfore'], ['we'], ['doubte'], ['not'], ['but'], ['you'], ['will'], ['advisedly'], ['consider'], ['at'], ['all'], ['<lb/>tymes'], ['by'], ['your'], ['wisdome', ','], ['gravitie'], ['and'], ['temperance', ','], ['to'], ['order'], ['all'], ['your'], ['actions', ','], ['<lb/>not'], ['only'], ['in'], ['your'], ['accesses'], ['and'], ['speches'], ['with'], ['the'], ['Kinge', ','], ['but'], ['also'], ['have'], ['good'], ['<lb/>regarde'], ['in'], ['all'], ['other'], ['your'], [\"behavioiu's\"], ['and'], ['conversations'], ['with'], ['all'], ['persons', ','], ['to'], ['<lb/>preserve'], ['the'], ['estimacion'], ['of'], ['us'], ['and'], ['our'], ['royal'], ['dignitie', ','], ['as'], ['our'], ['ambassador', ','], ['and', ','], ['<lb/>in'], ['a'], ['certain'], ['manner', ','], ['representinge'], ['our'], ['person.</p', '>'], ['<p>For'], ['the'], ['first'], ['and'], ['principall'], ['pointe'], ['of'], ['your'], ['charge', ','], ['you'], ['shall'], ['in'], ['noe'], ['one'], ['thinge'], ['better'], ['performe'], ['your'], ['dutie'], ['and'], ['uphold'], ['your'], ['reputacon', ','], ['then'], ['in'], ['ob', '-'], ['servinge'], ['of'], ['the'], ['rites'], ['of'], ['religion', ','], ['and'], ['in'], ['service'], ['of'], ['God'], ['to'], ['foUowe'], ['the'], ['forme'], ['of'], ['Common'], ['Dailey'], ['Prayers', ','], ['bothe'], ['by'], ['your'], ['selfe'], ['and'], ['houshold', ','], ['accordinge'], ['to'], ['the'], ['Church'], ['of'], ['England', ','], ['as'], ['it'], ['is'], ['established'], ['by'], ['lawe'], [';'], ['wherby'], ['you'], ['may'], ['appeare'], ['abroade'], ['to'], ['be'], ['a'], ['dutiful'], ['subjecte'], ['to'], ['the'], ['lawes'], ['of'], ['your'], ['naturall'], ['coun'], ['trey', ','], ['without'], ['impugninge'], ['or'], ['contendinge'], ['with'], ['the'], ['rites'], ['and'], ['usages'], ['of'], ['the'], ['Church'], ['of'], ['France,</p', '>'], ['<p', \">'\"], ['The'], ['original'], ['instructions'], ['signed'], ['by'], ['Lord'], ['Burghley'], ['are'], ['in'], ['the'], ['Cott', '.'], ['MS', '.'], ['Calig', '.'], ['E', '.'], ['viii', '.'], ['fol', '.'], ['194', '.'], ['Another'], ['copy'], ['is'], ['in'], ['the'], ['same'], ['volume', ','], ['fol', '.'], ['69', ','], ['and'], ['n'], ['third'], ['in'], ['the'], ['State'], ['Paper'], ['OflBce', '.'], ['See'], [\"Rymer's\"], ['Feed', '.'], ['xvi', '.'], ['103', '.'], ['Sir'], [\"Henry's\"], ['allowance'], ['was'], ['fixed'], ['at'], ['£4'], ['6'], ['8'], ['per'], ['diem.</p', '>'], ['<p>B</p', '>'], ['<p>2'], ['[July,</p', '>'], ['<p>as'], ['matters'], ['not'], ['aperteyninge'], ['to'], ['your'], ['charge', '.'], ['And'], ['yett'], ['if'], ['you'], ['shall'], ['have'], ['cause'], ['to'], ['be'], ['with'], ['the'], ['Kinge'], ['at'], ['any'], ['time'], ['when'], ['he'], ['shalbe'], ['att'], ['any'], ['service', '/'], ['you'], ['shall'], ['not'], ['refuse'], ['to'], ['attende'], ['uppon'], ['him.</p', '>'], ['<p>You'], ['shall'], ['also'], ['have'], ['regard'], ['to'], ['mainteine'], ['the'], ['dignitie'], ['of'], ['us'], ['and'], ['our'], ['crowne'], ['in'], ['all'], ['assembhes'], ['and'], ['proceedinges'], ['for'], ['your'], ['place'], ['and'], ['precedencie', ','], ['as'], ['in'], ['right'], ['to'], ['geive'], ['place'], ['to'], ['noe'], ['other'], ['princes', \"'\"], ['ambassadors', ','], ['but'], ['to'], ['the'], [\"emperor's\", ','], ['for'], ['in'], ['truthe'], ['none'], ['ells'], ['but'], ['a'], ['French'], ['Kinge'], ['out'], ['to'], ['have'], ['place'], ['before'], ['us.</p', '>'], ['<p>Item', ','], ['you'], ['shall'], ['seeke'], ['to'], ['acquainte'], ['your'], ['selfe'], ['with'], ['the'], ['ambassadors'], ['of'], ['Venice'], ['and'], ['of'], ['the'], ['duke'], ['of'], ['Florence', ','], ['whose'], ['superiors'], ['and'], ['lords'], ['do'], ['professe'], ['good'], ['friendshippe'], ['towards'], ['us'], [';'], ['and'], ['by'], ['them'], ['you'], ['shall'], ['come'], ['to'], ['intelligencies'], ['of'], ['the'], ['affaires'], ['of'], ['Itallye', ','], ['as'], ['of'], ['the'], [\"Pope's\"], ['and'], ['the'], ['Kinge'], ['of'], [\"Spaine's\", ','], ['and'], ['ther'], ['confederates', ','], ['and'], ['you'], ['shall'], ['use'], ['to'], ['acquainte'], ['them'], ['with'], ['all'], ['good'], ['occurrences'], ['which'], ['you'], ['shall'], ['receive'], ['of'], ['our'], ['proceadinges'], [';'], ['and', ','], ['as'], ['you'], ['shall'], ['see'], ['cause', ','], ['to'], ['satisfye'], ['them'], ['also'], ['with'], ['the'], ['truthe'], ['of'], ['our'], ['actions', ','], ['contrary'], ['unto'], ['the'], ['untreue'], ['slanders'], ['of'], ['our'], ['enemies'], ['and'], ['rebells.</p', '>'], ['<p>If'], ['any'], ['shall'], ['come'], ['to'], ['the'], ['French'], ['Kinge'], ['from'], ['the'], ['Kinge'], ['of'], ['Scottes', ','], ['the'], ['Kinge'], ['of'], ['Denmarke', ','], ['or'], ['from'], ['any'], ['of'], ['the'], ['Protestant'], ['Princes'], ['of'], ['the'], ['Empire', ','], ['or'], ['from'], ['the'], ['Protestant'], ['Cantons', ','], ['you'], ['shall'], ['by'], ['your'], ['conferences'], ['with'], ['them'], ['let'], ['them'], ['severally'], ['understand'], ['how'], ['freindly'], ['we'], ['doe'], ['make'], ['accounte'], ['of'], ['their'], ['superiors'], ['and'], ['lordes.</p', '>'], ['<p>You'], ['shall'], ['have'], ['good'], ['regarde'], ['to'], ['all'], ['negotiacions'], ['that'], ['male'], ['be'], ['under'], ['hande'], ['attempted'], ['to'], ['make'], ['accorde'], ['or'], ['abstinences'], ['of'], ['warres'], ['betwixte'], ['France'], ['and'], ['Spayne.</p', '>'], ['<p>You'], ['shall'], ['receive'], ['informacion'], ['by'], ['our'], ['Treasurer'], ['of'], ['England', ','], ['as'], ['one'], ['ac', '-'], ['quainted'], ['there'], ['with', ','], ['of'], ['the'], ['principall'], ['pointes'], ['of'], ['such'], ['treaties'], ['and'], ['leagues'], ['for'], ['amitie'], ['as'], ['are'], ['extant'], ['betweene'], ['us'], ['and'], ['that'], ['crowne', ','], ['and'], ['also'], ['for'], ['entercourse'], ['and'], ['traffique'], ['betweene'], ['our'], ['subjects'], ['for'], ['marchandise'], [';'], ['^'], ['and'], ['you'], ['shall'], ['endeavour'], ['your'], ['selfe'], ['to'], ['see'], ['the'], ['same'], ['duely'], ['observed', ','], ['and'], ['at'], ['all'], ['tymes'], ['to'], ['procure'], ['that'], ['our'], ['subjectes'], ['male'], ['enjoye'], ['their'], ['trade'], ['with'], ['out'], ['oppression'], ['by'], ['any'], ['innovacion'], ['of'], ['taxes'], ['contrary'], ['to'], ['former'], ['usage', '.'], ['And'], ['if'], ['you'], ['shall'], ['heare'], ['of'], ['any'], ['complaintes'], ['of'], ['the'], ['Frenche'], ['Kinges'], ['subjectes'], ['for'], ['any'], ['wronges'], ['or'], ['prises'], ['committed'], ['by'], ['any'], ['our'], ['subjectes', ','], ['you'], ['shall'], ['offer'], ['to'], ['enforme'], ['us'], ['or'], ['our'], ['Counsell'], ['therof', ','], ['and'], ['so'], ['procure'], ['them'], ['justice'], ['with'], ['favor'], ['and'], ['expedition.</p', '>'], ['<p>You'], ['shall'], ['also'], ['be'], ['informed'], ['by'], ['our'], ['said'], ['Treasurer'], ['what'], ['greate'], ['sommes'], ['of'], ['money'], ['and'], ['what'], ['municions'], ['we'], ['have', ','], ['by'], ['waie'], ['of'], ['imprestinge', ','], ['yealded'], ['to'], ['the</p', '>'], ['<p', \">'\"], ['Sermon', ','], ['Rymer', '.'], ['^'], ['See'], ['the'], ['document'], ['appended'], ['to'], ['thjs'], ['letter', ','], ['p', '.'], ['4.</p', '>'], ['<p>A', '.'], ['D', '.'], ['1591', '.]'], ['3</p', '>'], ['<p>saide'], ['Kinge'], ['since'], ['he'], ['came'], ['to'], ['the'], ['crowne', ','], ['and'], ['how'], ['the'], ['same'], ['is'], ['dewe'], ['to'], ['us'], ['i'], ['so'], ['as'], ['when'], ['you'], ['shall'], ['have'], ['occasion'], ['offered'], ['to'], ['speake'], ['thereof', ','], ['you'], ['may'], ['with'], ['certeinty'], ['declare'], ['the'], ['truth'], ['therof', ','], ['and'], ['geive'], ['cause'], ['for'], ['the'], ['French'], ['Kinge'], ['and'], ['his'], ['counsell'], ['to'], ['acknowledge'], ['the'], ['greatness'], ['of'], ['our'], ['friendshipp', ','], ['having'], ['without'], ['respecte'], ['of'], ['our'], ['oune'], ['estate'], ['yealded'], ['him'], ['such'], ['aides'], ['as'], ['never'], ['any'], ['King'], ['hath'], ['done'], ['the'], ['like'], ['to'], ['any'], ['other', '.'], ['And'], ['yett'], ['you'], ['shall'], ['not'], ['move'], ['this'], ['by'], ['way'], ['of'], ['expostulacon', ','], ['or'], ['to'], ['move'], ['any'], ['unkindness'], ['therby', ','], ['by'], ['the'], ['remembrance'], ['of'], ['our'], ['benefittes', '.'], ['And'], ['you'], ['shall'], ['also'], ['be'], ['enformed'], ['of'], ['certeine'], ['articles'], ['of'], ['covenants'], ['lately'], ['made'], ['by'], ['the'], ['Kinges'], ['ambassador', ','], ['by'], ['authoritie'], ['of'], ['the'], ['Kinges'], ['comission', ','], ['howe'], ['we'], ['shalbe'], ['reemboursed'], ['the'], ['saide'], ['sommes.</p', '>'], ['<p>You'], ['shall'], ['also'], ['consider'], ['what'], ['speciall'], ['service'], ['you'], ['may'], ['doe'], ['to'], ['us'], ['in'], ['havinge'], ['regard'], ['to'], ['the'], ['actions'], ['of'], ['our'], ['cosen'], ['the'], ['earle'], ['of'], ['Essex', ','], ['our'], ['heutennant'], ['generall'], ['of'], ['our'], ['forces', ','], ['givinge'], ['him'], ['understandinge'], ['from'], ['tyme'], ['to'], ['tyme', ','], ['what'], ['judgement'], ['is'], ['had'], ['of'], ['his'], ['actions', ','], ['approvinge'], ['to'], ['him'], ['such'], ['as'], ['are'], ['good', ','], ['and'], ['such'], ['as'], ['you'], ['shall'], ['knowe'], ['or'], ['heare'], ['to'], ['be'], ['commended'], [';'], ['and'], ['informing'], ['him'], ['of'], ['such'], ['thinges'], ['as'], ['you'], ['shall'], ['understand'], ['to'], ['be'], ['contrary', ','], ['givinge'], ['him'], ['good'], ['advice'], ['to'], ['reforme'], ['the'], ['same'], [';'], ['and'], ['in'], ['soe'], ['doinge'], ['you'], ['shall'], ['please'], ['us', ','], ['and'], ['therby'], ['performe'], ['the'], ['duty'], ['of'], ['a'], ['good'], ['servante'], ['and'], ['the'], ['office'], ['of'], ['a'], ['pubUcke'], ['minister', ','], ['being'], ['ther'], ['as'], ['our'], ['ambassador'], [';'], ['and'], ['in'], ['truthe'], ['you'], ['shall'], ['give'], ['him'], ['cause'], ['to'], ['love'], ['you', ','], ['though'], ['hapelie'], ['comonly'], ['younge'], ['noblemen'], ['at'], ['the'], ['first'], ['doe'], ['not'], ['imbrace'], ['advertisements'], ['of'], ['thinges'], ['to'], ['be'], ['reformed', '.'], ['But'], ['we'], ['charge'], ['you'], ['uppon'], ['your'], ['duty', ','], ['not'], ['for'], ['any'], ['such'], ['respecte'], ['to'], ['forbeare'], ['to'], ['deale'], ['plainly'], ['in'], ['honorable'], ['sorte'], ['with'], ['the'], ['saide'], ['earle.</p', '>'], ['<p>You'], ['shall'], ['use'], ['all'], ['good'], ['diUgence'], ['to'], ['understande'], ['in'], ['what'], ['places'], ['of'], ['France'], ['any'], ['of'], ['our'], ['subjectes', ','], ['beinge'], ['rebelles'], ['or'], ['fugitives', ','], ['shall'], ['remaine'], [';'], ['and'], ['procure'], ['to'], ['the'], ['best'], ['of'], ['your'], ['power'], ['that'], ['they'], ['may'], ['be'], ['by'], ['the'], ['Kinges'], ['meanes'], ['taken'], [';'], ['and'], ['specially'], ['uppon'], ['the'], ['takinge'], ['of'], ['any'], ['towne'], ['by'], ['the'], ['Kinge', ','], ['wherin'], ['any'], ['English', '-'], ['men'], ['shalbe'], ['founde', ','], ['earnestly'], ['to'], ['require'], ['them'], ['to'], ['be'], ['taken', ','], ['if'], ['they'], ['be'], ['rebells'], ['or'], ['fugitives', '.'], ['Or'], ['if'], ['they'], ['shalbe'], ['founde'], ['to'], ['have'], ['been'], ['taken'], ['prisoners'], ['in'], ['those'], ['townes', ','], ['and'], ['not'], ['to'], ['have'], ['passed'], ['out'], ['of'], ['our'], ['realme'], ['as'], ['fugitives', ','], ['you'], ['shall'], ['also'], ['procure'], ['their'], ['deUvery', ','], ['and'], ['of'], ['your'], ['doings'], ['herin'], ['to'], ['give'], ['advertisement.</p', '>'], ['<p>Item', ','], ['after'], ['you'], ['have'], ['anie'], ['good'], ['knowledge'], ['of'], ['such'], ['of'], ['the'], ['Kinges'], ['counseU', ','], ['or'], ['of'], ['any'], ['other'], ['men'], ['of'], ['quality'], ['serving'], ['the'], ['King', ','], ['whom'], ['you'], ['shall'], ['understand'], ['to'], ['be'], ['wise'], ['and'], ['well'], ['affected'], ['in'], ['religion', ','], ['you'], ['shall'], ['require'], ['of'], ['them'], ['wherin'], ['you'], ['may'], ['further'], ['the'], ['cause'], ['of'], ['reUgion'], ['by'], ['dealinge'], ['with'], ['the'], ['French'], ['Kinge'], [';'], ['for'], ['that</p', '>'], ['<p', \">'\"], ['See'], ['the'], ['document'], ['printed', ','], ['p', '.'], ['6.</p', '>'], ['<p>4'], ['[July,</p', '>'], ['<p>we'], ['are'], ['enformed'], ['that'], ['thoughe'], ['the'], ['Kinge'], ['hathe'], ['taken'], ['manie'], ['townes'], ['and'], ['places'], ['of'], ['charge'], ['from'], ['his'], ['rebells', ','], ['yett'], ['the'], ['matter'], ['is'], ['so'], ['handled'], ['by'], ['the'], ['Catholickes'], ['as'], ['few'], ['or'], ['none'], ['of'], ['such'], ['as'], ['have'], ['been'], ['dutiftill'], ['servantes'], ['to'], ['the'], ['King'], ['of'], ['longe'], ['tyme', ','], ['and'], ['are'], ['knowen'], ['to'], ['be'], ['of'], ['the'], ['religion', ','], ['are'], ['placed'], ['in'], ['any'], ['of'], ['those'], ['places', ','], ['wherby'], ['the'], ['Kinge'], ['can'], ['be'], ['so'], ['sure'], ['of'], ['the'], ['said'], ['places', ','], ['and'], ['yett'], ['his'], ['most'], ['trustie'], ['servantes'], ['comforted'], ['or'], ['releived', '.'], ['And'], ['if'], ['you'], ['shall'], ['find'], ['this'], ['to'], ['be'], ['treue', ','], ['uppon'], ['confe', '-'], ['rence'], ['with'], ['persons'], ['of'], ['understandinge', ','], ['you'], ['shall'], ['take'], ['convenient'], ['tyme'], ['to'], ['imparte'], ['this'], ['to'], ['the'], ['Kinge', ','], ['as'], ['so'], ['directed'], ['bi'], ['us', ','], ['and'], ['earnestly'], ['move'], ['him'], ['to'], ['remedie'], ['this'], [';'], ['wherin'], ['you'], ['shall'], ['doe'], ['weU', ','], ['and'], ['soe'], ['deale'], ['as'], ['the'], ['counsellors'], ['professinge'], ['the'], ['Catholicke'], ['relligion'], ['male'], ['understand'], ['your'], ['doinges'], ['therin.</p', '>'], ['<p>For'], ['your'], ['first'], ['accesse'], ['to'], ['the'], ['Kinge', ','], ['consideringe'], ['we'], ['have'], ['no'], ['minister'], ['of'], [\"our's\"], ['to'], ['procure'], ['your'], ['audience'], ['and'], ['to'], ['present'], ['you'], ['to'], ['the'], ['Kinge', ','], ['you'], ['shall'], ['have'], ['letters'], ['from'], ['the'], ['French'], ['ambassadour'], ['here'], ['resident', ','], ['either'], ['to'], ['the'], ['Kinge'], ['him'], ['selfe', ','], ['or'], ['to'], ['some'], ['of'], ['the'], ['principaU', '.'], ['of'], ['his'], ['counsell'], ['to'], ['procure'], ['for'], ['you'], ['bothe'], ['accesse'], ['and'], ['audience', ','], ['and'], ['for'], ['your'], ['continewance'], ['their'], ['afterwardes'], ['to'], ['have'], ['audience', ','], ['Sir'], ['Edward'], ['Stafford'], ['^'], ['shall'], ['enforme'], ['you'], ['howe'], ['he'], ['was'], ['accus', '-'], ['tomed'], ['to'], ['doe.2</p', '>'], ['<p>W', '.'], ['BUBGHLBY', '.'], ['*</p', '>'], ['</body', '>'], ['</text', '>'], ['</TEI', '>'], []]\n"
     ]
    }
   ],
   "source": [
    "import re\n",
    "#input = open(\"/Users/ewilliamson.FOLGER2000/GitWorkspace/Institute-Materials-2017/schedule/week_2/Print-UntonCorres-lres.txt\", encoding='utf-8').read()\n",
    "words = re.split(r'\\s+', contents)\n",
    "tokens_by_word = [re.findall(r'.*\\w|\\W+$', word) for word in words]\n",
    "print(tokens_by_word)"
   ]
  },
  {
   "cell_type": "markdown",
   "metadata": {},
   "source": [
    "The regex says that a token is either a string of any characters that ends in a word character (which will match “Peter’s” with the internal apostrophe as one token, since it ends in “s”, which is a word character) or a string of non-word characters. The [`re.findall`](https://docs.python.org/3/library/re.html#re.findall) method will give us back a list of all the *separate* (i.e. non-overlapping) times our expression matched. In the case of the string `cat.`, the `.*\\w` alternative matches `cat` (i.e. anything ending in a word character), and then the `\\W+` alternative matches `.` (i.e anything that is made entirely of non-word characters).\n",
    "\n",
    "We now have three tokens, but they’re in nested lists, which isn’t what we want. Rather, we want a single list with all the tokens on the same level. We can accomplish that with a `for` loop and [the `.extend` method for lists](https://docs.python.org/3/library/stdtypes.html#mutable-sequence-types):"
   ]
  },
  {
   "cell_type": "code",
   "execution_count": 12,
   "metadata": {},
   "outputs": [
    {
     "name": "stdout",
     "output_type": "stream",
     "text": [
      "['<?xml', 'version=\"1.0', '\"', 'encoding=\"UTF-8', '\"?>', '<?xml-model', 'href=\"file:/C:/Users/ewilliamson.FOLGER2000/Desktop/UntonEdition/tei_ms.rng', '\"', 'type=\"application/xml', '\"', 'schematypens=\"http://relaxng.org/ns/structure/1.0', '\"?>', '<TEI', 'xmlns=\"http://www.tei-c.org/ns/1.0', '\">', '<teiHeader', '>', '<fileDesc', '>', '<titleStmt><title>Correspondence', 'of', 'Sir', 'Henry', 'Unton', ',', 'knt', '.,', 'ambassador', 'from', 'Queen', 'Elizabeth', 'to', 'Henry', 'IV', '.', 'king', 'of', 'France', ',', 'in', 'the', 'years', 'MDXCI', '.', 'and', 'MDXCII</title', '>', '</titleStmt', '>', '<publicationStmt', '>', '<p>Under', 'development.</p', '>', '</publicationStmt', '>', '<sourceDesc', '>', '<p>Converted', 'initially', 'by', 'pandoc', 'from', 'txt', 'to', 'xml.</p><p>Edited', 'text', 'from', 'The', 'Internet', \"Archive's\", 'OCR', 'version', 'of', 'Cornell', 'University', \"Library's\", 'copy', 'of', 'the', 'Unton', 'Correspondence', '(DA', '350.U61', ').', '<ref', 'target=\"http://www.archive.org/details/cu31924027964471\">See', 'more.</ref></p', '>', '</sourceDesc', '>', '</fileDesc', '>', '</teiHeader', '>', '<text', '>', '<body', '>', '<p>1591', ',', 'July', '24.</p', '>', '<p>Instructions', 'for', 'Sir', 'Henry', 'Unton', ',', 'Knight', ',', 'ordered', '<lb/>and', 'sent', 'to', 'be', 'the', \"Queene's\", 'Ambassador', 'with', 'the', '<lb/>ELIZABETH', '.', 'French', 'Kinge', 'to', 'whom', 'her', 'Majes<abbr', 'type=\"superscript\">ties</abbr', '>', 'hath', 'written', 'her', '<lb/>letters', 'of', 'credence', 'with', 'the', 'said', 'Sir', 'Henry', 'Unton', ',', '<lb/>which', 'he', 'shall', 'at', 'his', 'first', 'accesse', 'present', 'to', 'the', 'Kinge', ',', '<lb/>dated', 'the', 'xxiiij<abbr', 'type=\"superscript\">th</abbr', '>', 'of', 'July', ',', '1591', '.', '<lb/>The', 'authoritie', 'which', 'you', 'shall', 'have', 'to', 'be', 'our', 'ambassador', 'to', 'the', 'French', '<lb/>Kinge', 'shall', 'be', 'warranted', 'by', 'our', 'speciall', 'letters', 'unto', 'the', 'Kinge', ',', 'signifiinge', 'that', '<lb/>we', 'have', 'made', 'speciall', 'choise', 'of', 'you', 'to', 'have', 'that', 'place', ';', 'and', 'requiringe', 'the', '<lb/>Kinge', 'to', 'credit', 'you', 'in', 'all', 'such', 'thinges', 'as', 'you', 'shall', 'by', 'our', 'commandement', ',', 'or', '<lb/>in', 'our', 'name', 'propounde', ',', 'declare', ',', 'or', 'require', ';', 'as', 'he', 'would', 'give', 'credit', 'to', 'our', '<lb/>seLfe', '.', 'And', 'therfore', 'we', 'doubte', 'not', 'but', 'you', 'will', 'advisedly', 'consider', 'at', 'all', '<lb/>tymes', 'by', 'your', 'wisdome', ',', 'gravitie', 'and', 'temperance', ',', 'to', 'order', 'all', 'your', 'actions', ',', '<lb/>not', 'only', 'in', 'your', 'accesses', 'and', 'speches', 'with', 'the', 'Kinge', ',', 'but', 'also', 'have', 'good', '<lb/>regarde', 'in', 'all', 'other', 'your', \"behavioiu's\", 'and', 'conversations', 'with', 'all', 'persons', ',', 'to', '<lb/>preserve', 'the', 'estimacion', 'of', 'us', 'and', 'our', 'royal', 'dignitie', ',', 'as', 'our', 'ambassador', ',', 'and', ',', '<lb/>in', 'certain', 'manner', ',', 'representinge', 'our', 'person.</p', '>', '<p>For', 'the', 'first', 'and', 'principall', 'pointe', 'of', 'your', 'charge', ',', 'you', 'shall', 'in', 'noe', 'one', 'thinge', 'better', 'performe', 'your', 'dutie', 'and', 'uphold', 'your', 'reputacon', ',', 'then', 'in', 'ob', '-', 'servinge', 'of', 'the', 'rites', 'of', 'religion', ',', 'and', 'in', 'service', 'of', 'God', 'to', 'foUowe', 'the', 'forme', 'of', 'Common', 'Dailey', 'Prayers', ',', 'bothe', 'by', 'your', 'selfe', 'and', 'houshold', ',', 'accordinge', 'to', 'the', 'Church', 'of', 'England', ',', 'as', 'it', 'is', 'established', 'by', 'lawe', ';', 'wherby', 'you', 'may', 'appeare', 'abroade', 'to', 'be', 'dutiful', 'subjecte', 'to', 'the', 'lawes', 'of', 'your', 'naturall', 'coun', 'trey', ',', 'without', 'impugninge', 'or', 'contendinge', 'with', 'the', 'rites', 'and', 'usages', 'of', 'the', 'Church', 'of', 'France,</p', '>', '<p', \">'\", 'The', 'original', 'instructions', 'signed', 'by', 'Lord', 'Burghley', 'are', 'in', 'the', 'Cott', '.', 'MS', '.', 'Calig', '.', '.', 'viii', '.', 'fol', '.', '194', '.', 'Another', 'copy', 'is', 'in', 'the', 'same', 'volume', ',', 'fol', '.', '69', ',', 'and', 'third', 'in', 'the', 'State', 'Paper', 'OflBce', '.', 'See', \"Rymer's\", 'Feed', '.', 'xvi', '.', '103', '.', 'Sir', \"Henry's\", 'allowance', 'was', 'fixed', 'at', '£4', 'per', 'diem.</p', '>', '<p>B</p', '>', '<p>2', '[July,</p', '>', '<p>as', 'matters', 'not', 'aperteyninge', 'to', 'your', 'charge', '.', 'And', 'yett', 'if', 'you', 'shall', 'have', 'cause', 'to', 'be', 'with', 'the', 'Kinge', 'at', 'any', 'time', 'when', 'he', 'shalbe', 'att', 'any', 'service', '/', 'you', 'shall', 'not', 'refuse', 'to', 'attende', 'uppon', 'him.</p', '>', '<p>You', 'shall', 'also', 'have', 'regard', 'to', 'mainteine', 'the', 'dignitie', 'of', 'us', 'and', 'our', 'crowne', 'in', 'all', 'assembhes', 'and', 'proceedinges', 'for', 'your', 'place', 'and', 'precedencie', ',', 'as', 'in', 'right', 'to', 'geive', 'place', 'to', 'noe', 'other', 'princes', \"'\", 'ambassadors', ',', 'but', 'to', 'the', \"emperor's\", ',', 'for', 'in', 'truthe', 'none', 'ells', 'but', 'French', 'Kinge', 'out', 'to', 'have', 'place', 'before', 'us.</p', '>', '<p>Item', ',', 'you', 'shall', 'seeke', 'to', 'acquainte', 'your', 'selfe', 'with', 'the', 'ambassadors', 'of', 'Venice', 'and', 'of', 'the', 'duke', 'of', 'Florence', ',', 'whose', 'superiors', 'and', 'lords', 'do', 'professe', 'good', 'friendshippe', 'towards', 'us', ';', 'and', 'by', 'them', 'you', 'shall', 'come', 'to', 'intelligencies', 'of', 'the', 'affaires', 'of', 'Itallye', ',', 'as', 'of', 'the', \"Pope's\", 'and', 'the', 'Kinge', 'of', \"Spaine's\", ',', 'and', 'ther', 'confederates', ',', 'and', 'you', 'shall', 'use', 'to', 'acquainte', 'them', 'with', 'all', 'good', 'occurrences', 'which', 'you', 'shall', 'receive', 'of', 'our', 'proceadinges', ';', 'and', ',', 'as', 'you', 'shall', 'see', 'cause', ',', 'to', 'satisfye', 'them', 'also', 'with', 'the', 'truthe', 'of', 'our', 'actions', ',', 'contrary', 'unto', 'the', 'untreue', 'slanders', 'of', 'our', 'enemies', 'and', 'rebells.</p', '>', '<p>If', 'any', 'shall', 'come', 'to', 'the', 'French', 'Kinge', 'from', 'the', 'Kinge', 'of', 'Scottes', ',', 'the', 'Kinge', 'of', 'Denmarke', ',', 'or', 'from', 'any', 'of', 'the', 'Protestant', 'Princes', 'of', 'the', 'Empire', ',', 'or', 'from', 'the', 'Protestant', 'Cantons', ',', 'you', 'shall', 'by', 'your', 'conferences', 'with', 'them', 'let', 'them', 'severally', 'understand', 'how', 'freindly', 'we', 'doe', 'make', 'accounte', 'of', 'their', 'superiors', 'and', 'lordes.</p', '>', '<p>You', 'shall', 'have', 'good', 'regarde', 'to', 'all', 'negotiacions', 'that', 'male', 'be', 'under', 'hande', 'attempted', 'to', 'make', 'accorde', 'or', 'abstinences', 'of', 'warres', 'betwixte', 'France', 'and', 'Spayne.</p', '>', '<p>You', 'shall', 'receive', 'informacion', 'by', 'our', 'Treasurer', 'of', 'England', ',', 'as', 'one', 'ac', '-', 'quainted', 'there', 'with', ',', 'of', 'the', 'principall', 'pointes', 'of', 'such', 'treaties', 'and', 'leagues', 'for', 'amitie', 'as', 'are', 'extant', 'betweene', 'us', 'and', 'that', 'crowne', ',', 'and', 'also', 'for', 'entercourse', 'and', 'traffique', 'betweene', 'our', 'subjects', 'for', 'marchandise', ';', '^', 'and', 'you', 'shall', 'endeavour', 'your', 'selfe', 'to', 'see', 'the', 'same', 'duely', 'observed', ',', 'and', 'at', 'all', 'tymes', 'to', 'procure', 'that', 'our', 'subjectes', 'male', 'enjoye', 'their', 'trade', 'with', 'out', 'oppression', 'by', 'any', 'innovacion', 'of', 'taxes', 'contrary', 'to', 'former', 'usage', '.', 'And', 'if', 'you', 'shall', 'heare', 'of', 'any', 'complaintes', 'of', 'the', 'Frenche', 'Kinges', 'subjectes', 'for', 'any', 'wronges', 'or', 'prises', 'committed', 'by', 'any', 'our', 'subjectes', ',', 'you', 'shall', 'offer', 'to', 'enforme', 'us', 'or', 'our', 'Counsell', 'therof', ',', 'and', 'so', 'procure', 'them', 'justice', 'with', 'favor', 'and', 'expedition.</p', '>', '<p>You', 'shall', 'also', 'be', 'informed', 'by', 'our', 'said', 'Treasurer', 'what', 'greate', 'sommes', 'of', 'money', 'and', 'what', 'municions', 'we', 'have', ',', 'by', 'waie', 'of', 'imprestinge', ',', 'yealded', 'to', 'the</p', '>', '<p', \">'\", 'Sermon', ',', 'Rymer', '.', '^', 'See', 'the', 'document', 'appended', 'to', 'thjs', 'letter', ',', '.', '4.</p', '>', '<p>A', '.', '.', '1591', '.]', '3</p', '>', '<p>saide', 'Kinge', 'since', 'he', 'came', 'to', 'the', 'crowne', ',', 'and', 'how', 'the', 'same', 'is', 'dewe', 'to', 'us', 'so', 'as', 'when', 'you', 'shall', 'have', 'occasion', 'offered', 'to', 'speake', 'thereof', ',', 'you', 'may', 'with', 'certeinty', 'declare', 'the', 'truth', 'therof', ',', 'and', 'geive', 'cause', 'for', 'the', 'French', 'Kinge', 'and', 'his', 'counsell', 'to', 'acknowledge', 'the', 'greatness', 'of', 'our', 'friendshipp', ',', 'having', 'without', 'respecte', 'of', 'our', 'oune', 'estate', 'yealded', 'him', 'such', 'aides', 'as', 'never', 'any', 'King', 'hath', 'done', 'the', 'like', 'to', 'any', 'other', '.', 'And', 'yett', 'you', 'shall', 'not', 'move', 'this', 'by', 'way', 'of', 'expostulacon', ',', 'or', 'to', 'move', 'any', 'unkindness', 'therby', ',', 'by', 'the', 'remembrance', 'of', 'our', 'benefittes', '.', 'And', 'you', 'shall', 'also', 'be', 'enformed', 'of', 'certeine', 'articles', 'of', 'covenants', 'lately', 'made', 'by', 'the', 'Kinges', 'ambassador', ',', 'by', 'authoritie', 'of', 'the', 'Kinges', 'comission', ',', 'howe', 'we', 'shalbe', 'reemboursed', 'the', 'saide', 'sommes.</p', '>', '<p>You', 'shall', 'also', 'consider', 'what', 'speciall', 'service', 'you', 'may', 'doe', 'to', 'us', 'in', 'havinge', 'regard', 'to', 'the', 'actions', 'of', 'our', 'cosen', 'the', 'earle', 'of', 'Essex', ',', 'our', 'heutennant', 'generall', 'of', 'our', 'forces', ',', 'givinge', 'him', 'understandinge', 'from', 'tyme', 'to', 'tyme', ',', 'what', 'judgement', 'is', 'had', 'of', 'his', 'actions', ',', 'approvinge', 'to', 'him', 'such', 'as', 'are', 'good', ',', 'and', 'such', 'as', 'you', 'shall', 'knowe', 'or', 'heare', 'to', 'be', 'commended', ';', 'and', 'informing', 'him', 'of', 'such', 'thinges', 'as', 'you', 'shall', 'understand', 'to', 'be', 'contrary', ',', 'givinge', 'him', 'good', 'advice', 'to', 'reforme', 'the', 'same', ';', 'and', 'in', 'soe', 'doinge', 'you', 'shall', 'please', 'us', ',', 'and', 'therby', 'performe', 'the', 'duty', 'of', 'good', 'servante', 'and', 'the', 'office', 'of', 'pubUcke', 'minister', ',', 'being', 'ther', 'as', 'our', 'ambassador', ';', 'and', 'in', 'truthe', 'you', 'shall', 'give', 'him', 'cause', 'to', 'love', 'you', ',', 'though', 'hapelie', 'comonly', 'younge', 'noblemen', 'at', 'the', 'first', 'doe', 'not', 'imbrace', 'advertisements', 'of', 'thinges', 'to', 'be', 'reformed', '.', 'But', 'we', 'charge', 'you', 'uppon', 'your', 'duty', ',', 'not', 'for', 'any', 'such', 'respecte', 'to', 'forbeare', 'to', 'deale', 'plainly', 'in', 'honorable', 'sorte', 'with', 'the', 'saide', 'earle.</p', '>', '<p>You', 'shall', 'use', 'all', 'good', 'diUgence', 'to', 'understande', 'in', 'what', 'places', 'of', 'France', 'any', 'of', 'our', 'subjectes', ',', 'beinge', 'rebelles', 'or', 'fugitives', ',', 'shall', 'remaine', ';', 'and', 'procure', 'to', 'the', 'best', 'of', 'your', 'power', 'that', 'they', 'may', 'be', 'by', 'the', 'Kinges', 'meanes', 'taken', ';', 'and', 'specially', 'uppon', 'the', 'takinge', 'of', 'any', 'towne', 'by', 'the', 'Kinge', ',', 'wherin', 'any', 'English', '-', 'men', 'shalbe', 'founde', ',', 'earnestly', 'to', 'require', 'them', 'to', 'be', 'taken', ',', 'if', 'they', 'be', 'rebells', 'or', 'fugitives', '.', 'Or', 'if', 'they', 'shalbe', 'founde', 'to', 'have', 'been', 'taken', 'prisoners', 'in', 'those', 'townes', ',', 'and', 'not', 'to', 'have', 'passed', 'out', 'of', 'our', 'realme', 'as', 'fugitives', ',', 'you', 'shall', 'also', 'procure', 'their', 'deUvery', ',', 'and', 'of', 'your', 'doings', 'herin', 'to', 'give', 'advertisement.</p', '>', '<p>Item', ',', 'after', 'you', 'have', 'anie', 'good', 'knowledge', 'of', 'such', 'of', 'the', 'Kinges', 'counseU', ',', 'or', 'of', 'any', 'other', 'men', 'of', 'quality', 'serving', 'the', 'King', ',', 'whom', 'you', 'shall', 'understand', 'to', 'be', 'wise', 'and', 'well', 'affected', 'in', 'religion', ',', 'you', 'shall', 'require', 'of', 'them', 'wherin', 'you', 'may', 'further', 'the', 'cause', 'of', 'reUgion', 'by', 'dealinge', 'with', 'the', 'French', 'Kinge', ';', 'for', 'that</p', '>', '<p', \">'\", 'See', 'the', 'document', 'printed', ',', '.', '6.</p', '>', '<p>4', '[July,</p', '>', '<p>we', 'are', 'enformed', 'that', 'thoughe', 'the', 'Kinge', 'hathe', 'taken', 'manie', 'townes', 'and', 'places', 'of', 'charge', 'from', 'his', 'rebells', ',', 'yett', 'the', 'matter', 'is', 'so', 'handled', 'by', 'the', 'Catholickes', 'as', 'few', 'or', 'none', 'of', 'such', 'as', 'have', 'been', 'dutiftill', 'servantes', 'to', 'the', 'King', 'of', 'longe', 'tyme', ',', 'and', 'are', 'knowen', 'to', 'be', 'of', 'the', 'religion', ',', 'are', 'placed', 'in', 'any', 'of', 'those', 'places', ',', 'wherby', 'the', 'Kinge', 'can', 'be', 'so', 'sure', 'of', 'the', 'said', 'places', ',', 'and', 'yett', 'his', 'most', 'trustie', 'servantes', 'comforted', 'or', 'releived', '.', 'And', 'if', 'you', 'shall', 'find', 'this', 'to', 'be', 'treue', ',', 'uppon', 'confe', '-', 'rence', 'with', 'persons', 'of', 'understandinge', ',', 'you', 'shall', 'take', 'convenient', 'tyme', 'to', 'imparte', 'this', 'to', 'the', 'Kinge', ',', 'as', 'so', 'directed', 'bi', 'us', ',', 'and', 'earnestly', 'move', 'him', 'to', 'remedie', 'this', ';', 'wherin', 'you', 'shall', 'doe', 'weU', ',', 'and', 'soe', 'deale', 'as', 'the', 'counsellors', 'professinge', 'the', 'Catholicke', 'relligion', 'male', 'understand', 'your', 'doinges', 'therin.</p', '>', '<p>For', 'your', 'first', 'accesse', 'to', 'the', 'Kinge', ',', 'consideringe', 'we', 'have', 'no', 'minister', 'of', \"our's\", 'to', 'procure', 'your', 'audience', 'and', 'to', 'present', 'you', 'to', 'the', 'Kinge', ',', 'you', 'shall', 'have', 'letters', 'from', 'the', 'French', 'ambassadour', 'here', 'resident', ',', 'either', 'to', 'the', 'Kinge', 'him', 'selfe', ',', 'or', 'to', 'some', 'of', 'the', 'principaU', '.', 'of', 'his', 'counsell', 'to', 'procure', 'for', 'you', 'bothe', 'accesse', 'and', 'audience', ',', 'and', 'for', 'your', 'continewance', 'their', 'afterwardes', 'to', 'have', 'audience', ',', 'Sir', 'Edward', 'Stafford', '^', 'shall', 'enforme', 'you', 'howe', 'he', 'was', 'accus', '-', 'tomed', 'to', 'doe.2</p', '>', '<p>W', '.', 'BUBGHLBY', '.', '*</p', '>', '</body', '>', '</text', '>', '</TEI', '>']\n"
     ]
    }
   ],
   "source": [
    "input = open(\"/Users/ewilliamson.FOLGER2000/GitWorkspace/Institute-Materials-2017/schedule/week_2/Print-UntonCorres-lres.txt\", encoding='utf-8').read()\n",
    "words = re.split(r'\\s+', contents)\n",
    "tokens_by_word = [re.findall(r'.+\\w|\\W+$', word) for word in words]\n",
    "tokens = []\n",
    "for item in tokens_by_word:\n",
    "    tokens.extend(item)\n",
    "print(tokens)"
   ]
  },
  {
   "cell_type": "code",
   "execution_count": 8,
   "metadata": {
    "collapsed": true
   },
   "outputs": [],
   "source": [
    "UntonTokens = open('UntonTokens.txt', 'w', encoding='utf-8')\n",
    "UntonTokens.write(contents)\n",
    "UntonTokens.close()"
   ]
  },
  {
   "cell_type": "code",
   "execution_count": null,
   "metadata": {
    "collapsed": true
   },
   "outputs": [],
   "source": []
  },
  {
   "cell_type": "markdown",
   "metadata": {},
   "source": [
    "We’ve now split our witness text into tokens, but instead of returning them as a list of strings, we need to format them into the list of Python dictionaries that CollateX requires. So let's talk about [what CollateX requires](https://collatex.net/doc/#json-input).\n",
    "\n",
    "### Specifying the witnesses to be used in the collation\n",
    "The format in which CollateX expects to receive our custom lists of tokens for all witnesses to be collated is a [**Python dictionary**](https://docs.python.org/3/tutorial/datastructures.html?#dictionaries), which has the following structure:\n",
    "\n",
    "    { \"witnesses\": [ witness_a, witness_b ] }\n",
    "\n",
    "This is a Python dictionary whose **key** is the word `witnesses`, and whose **value** is a list of the witnesses (that is, the sets of text tokens) that we want to collate. Doing our own tokenization, then, means building a dictionary like the one above and putting our custom tokens in the correct format where the `witness_a` and `witness_b` variables stand above.\n",
    "\n",
    "### Specifying the siglum and token list for each witness\n",
    "The witness data for each witness is a Python dictionary that must contain two properties, which have as keys the strings `id` and `tokens`. The value for the `id` key is a string that will be used as the siglum of the witness in any CollateX output. The value for the `tokens` key is a Python list of tokens that comprise the text (much like what we have made with our regular expressions, but we have one more step to get through...!\n",
    "\n",
    "    witness_a = { \"id\": \"A\", \"tokens\": list_of_tokens_for_witness_a }\n",
    "\n",
    "### Specifying the tokens for each witness\n",
    "Each token for each witness is a Python dictionary with at least one member, which has the key \"t\" (think “text”). You'll learn in the Normalization unit what else you can put in here. A token for the string “cat” would look like:\n",
    "\n",
    "    { \"t\": \"cat\" }\n",
    "\n",
    "The key for every token is the string \"t\"; the value for this token is the string \"cat\". As noted above, the tokens for a witness are structured as a Python list, so if we chose to split our text only on whitespace we would tokenize our first witness as:\n",
    "\n",
    "    list_of_tokens_for_witness_a = [ { \"t\": \"Peter's\" }, { \"t\": \"cat.\" } ]\n",
    "\n",
    "Our witness has two tokens, instead of the five that the default tokenizer would have provided, because we’ve done the tokenization ourselves according to our own specifications.\n",
    "\n",
    "### Putting it all together\n",
    "For ease of exposition we’ve used variables to limit the amount of code we write in any one line. We define our sets of tokens as:\n",
    "\n",
    "    list_of_tokens_for_witness_a = [ { \"t\": \"Peter's\" }, { \"t\": \"cat.\" } ]\n",
    "    list_of_tokens_for_witness_b = [ { \"t\": \"Peter's\" }, { \"t\": \"dog.\" } ]\n",
    "\n",
    "Once we have those, we can define our witnesses that bear these tokens:\n",
    "\n",
    "    witness_a = { \"id\": \"A\", \"tokens\": list_of_tokens_for_witness_a }\n",
    "    witness_b = { \"id\": \"B\", \"tokens\": list_of_tokens_for_witness_b }\n",
    "\n",
    "until finally we define our collation set as:\n",
    "\n",
    "    { \"witnesses\": [ witness_a, witness_b ] }\n",
    "\n",
    "with variables that point to the data for the two witnesses. \n",
    "\n",
    "It is also possible to represent the same information directly, without variables:\n",
    "\n",
    "    {\"witnesses\": [\n",
    "        {\n",
    "            \"id\": \"A\",\n",
    "            \"tokens\": [\n",
    "                {\"t\": \"Peter's\"},\n",
    "                {\"t\": \"cat.\"}\n",
    "            ]\n",
    "        },\n",
    "        {\n",
    "            \"id\": \"B\",\n",
    "            \"tokens\": [\n",
    "                {\"t\": \"Peter's\"},\n",
    "                {\"t\": \"dog.\"}\n",
    "            ]\n",
    "        }\n",
    "    ]}\n",
    "\n",
    "So let's put a single witness together in the format CollateX requires, starting with that list of tokens we made."
   ]
  },
  {
   "cell_type": "code",
   "execution_count": 13,
   "metadata": {},
   "outputs": [
    {
     "name": "stdout",
     "output_type": "stream",
     "text": [
      "[{'t': '<?xml'}, {'t': 'version=\"1.0'}, {'t': '\"'}, {'t': 'encoding=\"UTF-8'}, {'t': '\"?>'}, {'t': '<?xml-model'}, {'t': 'href=\"file:/C:/Users/ewilliamson.FOLGER2000/Desktop/UntonEdition/tei_ms.rng'}, {'t': '\"'}, {'t': 'type=\"application/xml'}, {'t': '\"'}, {'t': 'schematypens=\"http://relaxng.org/ns/structure/1.0'}, {'t': '\"?>'}, {'t': '<TEI'}, {'t': 'xmlns=\"http://www.tei-c.org/ns/1.0'}, {'t': '\">'}, {'t': '<teiHeader'}, {'t': '>'}, {'t': '<fileDesc'}, {'t': '>'}, {'t': '<titleStmt><title>Correspondence'}, {'t': 'of'}, {'t': 'Sir'}, {'t': 'Henry'}, {'t': 'Unton'}, {'t': ','}, {'t': 'knt'}, {'t': '.,'}, {'t': 'ambassador'}, {'t': 'from'}, {'t': 'Queen'}, {'t': 'Elizabeth'}, {'t': 'to'}, {'t': 'Henry'}, {'t': 'IV'}, {'t': '.'}, {'t': 'king'}, {'t': 'of'}, {'t': 'France'}, {'t': ','}, {'t': 'in'}, {'t': 'the'}, {'t': 'years'}, {'t': 'MDXCI'}, {'t': '.'}, {'t': 'and'}, {'t': 'MDXCII</title'}, {'t': '>'}, {'t': '</titleStmt'}, {'t': '>'}, {'t': '<publicationStmt'}, {'t': '>'}, {'t': '<p>Under'}, {'t': 'development.</p'}, {'t': '>'}, {'t': '</publicationStmt'}, {'t': '>'}, {'t': '<sourceDesc'}, {'t': '>'}, {'t': '<p>Converted'}, {'t': 'initially'}, {'t': 'by'}, {'t': 'pandoc'}, {'t': 'from'}, {'t': 'txt'}, {'t': 'to'}, {'t': 'xml.</p><p>Edited'}, {'t': 'text'}, {'t': 'from'}, {'t': 'The'}, {'t': 'Internet'}, {'t': \"Archive's\"}, {'t': 'OCR'}, {'t': 'version'}, {'t': 'of'}, {'t': 'Cornell'}, {'t': 'University'}, {'t': \"Library's\"}, {'t': 'copy'}, {'t': 'of'}, {'t': 'the'}, {'t': 'Unton'}, {'t': 'Correspondence'}, {'t': '(DA'}, {'t': '350.U61'}, {'t': ').'}, {'t': '<ref'}, {'t': 'target=\"http://www.archive.org/details/cu31924027964471\">See'}, {'t': 'more.</ref></p'}, {'t': '>'}, {'t': '</sourceDesc'}, {'t': '>'}, {'t': '</fileDesc'}, {'t': '>'}, {'t': '</teiHeader'}, {'t': '>'}, {'t': '<text'}, {'t': '>'}, {'t': '<body'}, {'t': '>'}, {'t': '<p>1591'}, {'t': ','}, {'t': 'July'}, {'t': '24.</p'}, {'t': '>'}, {'t': '<p>Instructions'}, {'t': 'for'}, {'t': 'Sir'}, {'t': 'Henry'}, {'t': 'Unton'}, {'t': ','}, {'t': 'Knight'}, {'t': ','}, {'t': 'ordered'}, {'t': '<lb/>and'}, {'t': 'sent'}, {'t': 'to'}, {'t': 'be'}, {'t': 'the'}, {'t': \"Queene's\"}, {'t': 'Ambassador'}, {'t': 'with'}, {'t': 'the'}, {'t': '<lb/>ELIZABETH'}, {'t': 'R'}, {'t': '.'}, {'t': 'French'}, {'t': 'Kinge'}, {'t': 'to'}, {'t': 'whom'}, {'t': 'her'}, {'t': 'Majes<abbr'}, {'t': 'type=\"superscript\">ties</abbr'}, {'t': '>'}, {'t': 'hath'}, {'t': 'written'}, {'t': 'her'}, {'t': '<lb/>letters'}, {'t': 'of'}, {'t': 'credence'}, {'t': 'with'}, {'t': 'the'}, {'t': 'said'}, {'t': 'Sir'}, {'t': 'Henry'}, {'t': 'Unton'}, {'t': ','}, {'t': '<lb/>which'}, {'t': 'he'}, {'t': 'shall'}, {'t': 'at'}, {'t': 'his'}, {'t': 'first'}, {'t': 'accesse'}, {'t': 'present'}, {'t': 'to'}, {'t': 'the'}, {'t': 'Kinge'}, {'t': ','}, {'t': '<lb/>dated'}, {'t': 'the'}, {'t': 'xxiiij<abbr'}, {'t': 'type=\"superscript\">th</abbr'}, {'t': '>'}, {'t': 'of'}, {'t': 'July'}, {'t': ','}, {'t': '1591'}, {'t': '.'}, {'t': '<lb/>The'}, {'t': 'authoritie'}, {'t': 'which'}, {'t': 'you'}, {'t': 'shall'}, {'t': 'have'}, {'t': 'to'}, {'t': 'be'}, {'t': 'our'}, {'t': 'ambassador'}, {'t': 'to'}, {'t': 'the'}, {'t': 'French'}, {'t': '<lb/>Kinge'}, {'t': 'shall'}, {'t': 'be'}, {'t': 'warranted'}, {'t': 'by'}, {'t': 'our'}, {'t': 'speciall'}, {'t': 'letters'}, {'t': 'unto'}, {'t': 'the'}, {'t': 'Kinge'}, {'t': ','}, {'t': 'signifiinge'}, {'t': 'that'}, {'t': '<lb/>we'}, {'t': 'have'}, {'t': 'made'}, {'t': 'speciall'}, {'t': 'choise'}, {'t': 'of'}, {'t': 'you'}, {'t': 'to'}, {'t': 'have'}, {'t': 'that'}, {'t': 'place'}, {'t': ';'}, {'t': 'and'}, {'t': 'requiringe'}, {'t': 'the'}, {'t': '<lb/>Kinge'}, {'t': 'to'}, {'t': 'credit'}, {'t': 'you'}, {'t': 'in'}, {'t': 'all'}, {'t': 'such'}, {'t': 'thinges'}, {'t': 'as'}, {'t': 'you'}, {'t': 'shall'}, {'t': 'by'}, {'t': 'our'}, {'t': 'commandement'}, {'t': ','}, {'t': 'or'}, {'t': '<lb/>in'}, {'t': 'our'}, {'t': 'name'}, {'t': 'propounde'}, {'t': ','}, {'t': 'declare'}, {'t': ','}, {'t': 'or'}, {'t': 'require'}, {'t': ';'}, {'t': 'as'}, {'t': 'he'}, {'t': 'would'}, {'t': 'give'}, {'t': 'credit'}, {'t': 'to'}, {'t': 'our'}, {'t': '<lb/>seLfe'}, {'t': '.'}, {'t': 'And'}, {'t': 'therfore'}, {'t': 'we'}, {'t': 'doubte'}, {'t': 'not'}, {'t': 'but'}, {'t': 'you'}, {'t': 'will'}, {'t': 'advisedly'}, {'t': 'consider'}, {'t': 'at'}, {'t': 'all'}, {'t': '<lb/>tymes'}, {'t': 'by'}, {'t': 'your'}, {'t': 'wisdome'}, {'t': ','}, {'t': 'gravitie'}, {'t': 'and'}, {'t': 'temperance'}, {'t': ','}, {'t': 'to'}, {'t': 'order'}, {'t': 'all'}, {'t': 'your'}, {'t': 'actions'}, {'t': ','}, {'t': '<lb/>not'}, {'t': 'only'}, {'t': 'in'}, {'t': 'your'}, {'t': 'accesses'}, {'t': 'and'}, {'t': 'speches'}, {'t': 'with'}, {'t': 'the'}, {'t': 'Kinge'}, {'t': ','}, {'t': 'but'}, {'t': 'also'}, {'t': 'have'}, {'t': 'good'}, {'t': '<lb/>regarde'}, {'t': 'in'}, {'t': 'all'}, {'t': 'other'}, {'t': 'your'}, {'t': \"behavioiu's\"}, {'t': 'and'}, {'t': 'conversations'}, {'t': 'with'}, {'t': 'all'}, {'t': 'persons'}, {'t': ','}, {'t': 'to'}, {'t': '<lb/>preserve'}, {'t': 'the'}, {'t': 'estimacion'}, {'t': 'of'}, {'t': 'us'}, {'t': 'and'}, {'t': 'our'}, {'t': 'royal'}, {'t': 'dignitie'}, {'t': ','}, {'t': 'as'}, {'t': 'our'}, {'t': 'ambassador'}, {'t': ','}, {'t': 'and'}, {'t': ','}, {'t': '<lb/>in'}, {'t': 'a'}, {'t': 'certain'}, {'t': 'manner'}, {'t': ','}, {'t': 'representinge'}, {'t': 'our'}, {'t': 'person.</p'}, {'t': '>'}, {'t': '<p>For'}, {'t': 'the'}, {'t': 'first'}, {'t': 'and'}, {'t': 'principall'}, {'t': 'pointe'}, {'t': 'of'}, {'t': 'your'}, {'t': 'charge'}, {'t': ','}, {'t': 'you'}, {'t': 'shall'}, {'t': 'in'}, {'t': 'noe'}, {'t': 'one'}, {'t': 'thinge'}, {'t': 'better'}, {'t': 'performe'}, {'t': 'your'}, {'t': 'dutie'}, {'t': 'and'}, {'t': 'uphold'}, {'t': 'your'}, {'t': 'reputacon'}, {'t': ','}, {'t': 'then'}, {'t': 'in'}, {'t': 'ob'}, {'t': '-'}, {'t': 'servinge'}, {'t': 'of'}, {'t': 'the'}, {'t': 'rites'}, {'t': 'of'}, {'t': 'religion'}, {'t': ','}, {'t': 'and'}, {'t': 'in'}, {'t': 'service'}, {'t': 'of'}, {'t': 'God'}, {'t': 'to'}, {'t': 'foUowe'}, {'t': 'the'}, {'t': 'forme'}, {'t': 'of'}, {'t': 'Common'}, {'t': 'Dailey'}, {'t': 'Prayers'}, {'t': ','}, {'t': 'bothe'}, {'t': 'by'}, {'t': 'your'}, {'t': 'selfe'}, {'t': 'and'}, {'t': 'houshold'}, {'t': ','}, {'t': 'accordinge'}, {'t': 'to'}, {'t': 'the'}, {'t': 'Church'}, {'t': 'of'}, {'t': 'England'}, {'t': ','}, {'t': 'as'}, {'t': 'it'}, {'t': 'is'}, {'t': 'established'}, {'t': 'by'}, {'t': 'lawe'}, {'t': ';'}, {'t': 'wherby'}, {'t': 'you'}, {'t': 'may'}, {'t': 'appeare'}, {'t': 'abroade'}, {'t': 'to'}, {'t': 'be'}, {'t': 'a'}, {'t': 'dutiful'}, {'t': 'subjecte'}, {'t': 'to'}, {'t': 'the'}, {'t': 'lawes'}, {'t': 'of'}, {'t': 'your'}, {'t': 'naturall'}, {'t': 'coun'}, {'t': 'trey'}, {'t': ','}, {'t': 'without'}, {'t': 'impugninge'}, {'t': 'or'}, {'t': 'contendinge'}, {'t': 'with'}, {'t': 'the'}, {'t': 'rites'}, {'t': 'and'}, {'t': 'usages'}, {'t': 'of'}, {'t': 'the'}, {'t': 'Church'}, {'t': 'of'}, {'t': 'France,</p'}, {'t': '>'}, {'t': '<p'}, {'t': \">'\"}, {'t': 'The'}, {'t': 'original'}, {'t': 'instructions'}, {'t': 'signed'}, {'t': 'by'}, {'t': 'Lord'}, {'t': 'Burghley'}, {'t': 'are'}, {'t': 'in'}, {'t': 'the'}, {'t': 'Cott'}, {'t': '.'}, {'t': 'MS'}, {'t': '.'}, {'t': 'Calig'}, {'t': '.'}, {'t': 'E'}, {'t': '.'}, {'t': 'viii'}, {'t': '.'}, {'t': 'fol'}, {'t': '.'}, {'t': '194'}, {'t': '.'}, {'t': 'Another'}, {'t': 'copy'}, {'t': 'is'}, {'t': 'in'}, {'t': 'the'}, {'t': 'same'}, {'t': 'volume'}, {'t': ','}, {'t': 'fol'}, {'t': '.'}, {'t': '69'}, {'t': ','}, {'t': 'and'}, {'t': 'n'}, {'t': 'third'}, {'t': 'in'}, {'t': 'the'}, {'t': 'State'}, {'t': 'Paper'}, {'t': 'OflBce'}, {'t': '.'}, {'t': 'See'}, {'t': \"Rymer's\"}, {'t': 'Feed'}, {'t': '.'}, {'t': 'xvi'}, {'t': '.'}, {'t': '103'}, {'t': '.'}, {'t': 'Sir'}, {'t': \"Henry's\"}, {'t': 'allowance'}, {'t': 'was'}, {'t': 'fixed'}, {'t': 'at'}, {'t': '£4'}, {'t': '6'}, {'t': '8'}, {'t': 'per'}, {'t': 'diem.</p'}, {'t': '>'}, {'t': '<p>B</p'}, {'t': '>'}, {'t': '<p>2'}, {'t': '[July,</p'}, {'t': '>'}, {'t': '<p>as'}, {'t': 'matters'}, {'t': 'not'}, {'t': 'aperteyninge'}, {'t': 'to'}, {'t': 'your'}, {'t': 'charge'}, {'t': '.'}, {'t': 'And'}, {'t': 'yett'}, {'t': 'if'}, {'t': 'you'}, {'t': 'shall'}, {'t': 'have'}, {'t': 'cause'}, {'t': 'to'}, {'t': 'be'}, {'t': 'with'}, {'t': 'the'}, {'t': 'Kinge'}, {'t': 'at'}, {'t': 'any'}, {'t': 'time'}, {'t': 'when'}, {'t': 'he'}, {'t': 'shalbe'}, {'t': 'att'}, {'t': 'any'}, {'t': 'service'}, {'t': '/'}, {'t': 'you'}, {'t': 'shall'}, {'t': 'not'}, {'t': 'refuse'}, {'t': 'to'}, {'t': 'attende'}, {'t': 'uppon'}, {'t': 'him.</p'}, {'t': '>'}, {'t': '<p>You'}, {'t': 'shall'}, {'t': 'also'}, {'t': 'have'}, {'t': 'regard'}, {'t': 'to'}, {'t': 'mainteine'}, {'t': 'the'}, {'t': 'dignitie'}, {'t': 'of'}, {'t': 'us'}, {'t': 'and'}, {'t': 'our'}, {'t': 'crowne'}, {'t': 'in'}, {'t': 'all'}, {'t': 'assembhes'}, {'t': 'and'}, {'t': 'proceedinges'}, {'t': 'for'}, {'t': 'your'}, {'t': 'place'}, {'t': 'and'}, {'t': 'precedencie'}, {'t': ','}, {'t': 'as'}, {'t': 'in'}, {'t': 'right'}, {'t': 'to'}, {'t': 'geive'}, {'t': 'place'}, {'t': 'to'}, {'t': 'noe'}, {'t': 'other'}, {'t': 'princes'}, {'t': \"'\"}, {'t': 'ambassadors'}, {'t': ','}, {'t': 'but'}, {'t': 'to'}, {'t': 'the'}, {'t': \"emperor's\"}, {'t': ','}, {'t': 'for'}, {'t': 'in'}, {'t': 'truthe'}, {'t': 'none'}, {'t': 'ells'}, {'t': 'but'}, {'t': 'a'}, {'t': 'French'}, {'t': 'Kinge'}, {'t': 'out'}, {'t': 'to'}, {'t': 'have'}, {'t': 'place'}, {'t': 'before'}, {'t': 'us.</p'}, {'t': '>'}, {'t': '<p>Item'}, {'t': ','}, {'t': 'you'}, {'t': 'shall'}, {'t': 'seeke'}, {'t': 'to'}, {'t': 'acquainte'}, {'t': 'your'}, {'t': 'selfe'}, {'t': 'with'}, {'t': 'the'}, {'t': 'ambassadors'}, {'t': 'of'}, {'t': 'Venice'}, {'t': 'and'}, {'t': 'of'}, {'t': 'the'}, {'t': 'duke'}, {'t': 'of'}, {'t': 'Florence'}, {'t': ','}, {'t': 'whose'}, {'t': 'superiors'}, {'t': 'and'}, {'t': 'lords'}, {'t': 'do'}, {'t': 'professe'}, {'t': 'good'}, {'t': 'friendshippe'}, {'t': 'towards'}, {'t': 'us'}, {'t': ';'}, {'t': 'and'}, {'t': 'by'}, {'t': 'them'}, {'t': 'you'}, {'t': 'shall'}, {'t': 'come'}, {'t': 'to'}, {'t': 'intelligencies'}, {'t': 'of'}, {'t': 'the'}, {'t': 'affaires'}, {'t': 'of'}, {'t': 'Itallye'}, {'t': ','}, {'t': 'as'}, {'t': 'of'}, {'t': 'the'}, {'t': \"Pope's\"}, {'t': 'and'}, {'t': 'the'}, {'t': 'Kinge'}, {'t': 'of'}, {'t': \"Spaine's\"}, {'t': ','}, {'t': 'and'}, {'t': 'ther'}, {'t': 'confederates'}, {'t': ','}, {'t': 'and'}, {'t': 'you'}, {'t': 'shall'}, {'t': 'use'}, {'t': 'to'}, {'t': 'acquainte'}, {'t': 'them'}, {'t': 'with'}, {'t': 'all'}, {'t': 'good'}, {'t': 'occurrences'}, {'t': 'which'}, {'t': 'you'}, {'t': 'shall'}, {'t': 'receive'}, {'t': 'of'}, {'t': 'our'}, {'t': 'proceadinges'}, {'t': ';'}, {'t': 'and'}, {'t': ','}, {'t': 'as'}, {'t': 'you'}, {'t': 'shall'}, {'t': 'see'}, {'t': 'cause'}, {'t': ','}, {'t': 'to'}, {'t': 'satisfye'}, {'t': 'them'}, {'t': 'also'}, {'t': 'with'}, {'t': 'the'}, {'t': 'truthe'}, {'t': 'of'}, {'t': 'our'}, {'t': 'actions'}, {'t': ','}, {'t': 'contrary'}, {'t': 'unto'}, {'t': 'the'}, {'t': 'untreue'}, {'t': 'slanders'}, {'t': 'of'}, {'t': 'our'}, {'t': 'enemies'}, {'t': 'and'}, {'t': 'rebells.</p'}, {'t': '>'}, {'t': '<p>If'}, {'t': 'any'}, {'t': 'shall'}, {'t': 'come'}, {'t': 'to'}, {'t': 'the'}, {'t': 'French'}, {'t': 'Kinge'}, {'t': 'from'}, {'t': 'the'}, {'t': 'Kinge'}, {'t': 'of'}, {'t': 'Scottes'}, {'t': ','}, {'t': 'the'}, {'t': 'Kinge'}, {'t': 'of'}, {'t': 'Denmarke'}, {'t': ','}, {'t': 'or'}, {'t': 'from'}, {'t': 'any'}, {'t': 'of'}, {'t': 'the'}, {'t': 'Protestant'}, {'t': 'Princes'}, {'t': 'of'}, {'t': 'the'}, {'t': 'Empire'}, {'t': ','}, {'t': 'or'}, {'t': 'from'}, {'t': 'the'}, {'t': 'Protestant'}, {'t': 'Cantons'}, {'t': ','}, {'t': 'you'}, {'t': 'shall'}, {'t': 'by'}, {'t': 'your'}, {'t': 'conferences'}, {'t': 'with'}, {'t': 'them'}, {'t': 'let'}, {'t': 'them'}, {'t': 'severally'}, {'t': 'understand'}, {'t': 'how'}, {'t': 'freindly'}, {'t': 'we'}, {'t': 'doe'}, {'t': 'make'}, {'t': 'accounte'}, {'t': 'of'}, {'t': 'their'}, {'t': 'superiors'}, {'t': 'and'}, {'t': 'lordes.</p'}, {'t': '>'}, {'t': '<p>You'}, {'t': 'shall'}, {'t': 'have'}, {'t': 'good'}, {'t': 'regarde'}, {'t': 'to'}, {'t': 'all'}, {'t': 'negotiacions'}, {'t': 'that'}, {'t': 'male'}, {'t': 'be'}, {'t': 'under'}, {'t': 'hande'}, {'t': 'attempted'}, {'t': 'to'}, {'t': 'make'}, {'t': 'accorde'}, {'t': 'or'}, {'t': 'abstinences'}, {'t': 'of'}, {'t': 'warres'}, {'t': 'betwixte'}, {'t': 'France'}, {'t': 'and'}, {'t': 'Spayne.</p'}, {'t': '>'}, {'t': '<p>You'}, {'t': 'shall'}, {'t': 'receive'}, {'t': 'informacion'}, {'t': 'by'}, {'t': 'our'}, {'t': 'Treasurer'}, {'t': 'of'}, {'t': 'England'}, {'t': ','}, {'t': 'as'}, {'t': 'one'}, {'t': 'ac'}, {'t': '-'}, {'t': 'quainted'}, {'t': 'there'}, {'t': 'with'}, {'t': ','}, {'t': 'of'}, {'t': 'the'}, {'t': 'principall'}, {'t': 'pointes'}, {'t': 'of'}, {'t': 'such'}, {'t': 'treaties'}, {'t': 'and'}, {'t': 'leagues'}, {'t': 'for'}, {'t': 'amitie'}, {'t': 'as'}, {'t': 'are'}, {'t': 'extant'}, {'t': 'betweene'}, {'t': 'us'}, {'t': 'and'}, {'t': 'that'}, {'t': 'crowne'}, {'t': ','}, {'t': 'and'}, {'t': 'also'}, {'t': 'for'}, {'t': 'entercourse'}, {'t': 'and'}, {'t': 'traffique'}, {'t': 'betweene'}, {'t': 'our'}, {'t': 'subjects'}, {'t': 'for'}, {'t': 'marchandise'}, {'t': ';'}, {'t': '^'}, {'t': 'and'}, {'t': 'you'}, {'t': 'shall'}, {'t': 'endeavour'}, {'t': 'your'}, {'t': 'selfe'}, {'t': 'to'}, {'t': 'see'}, {'t': 'the'}, {'t': 'same'}, {'t': 'duely'}, {'t': 'observed'}, {'t': ','}, {'t': 'and'}, {'t': 'at'}, {'t': 'all'}, {'t': 'tymes'}, {'t': 'to'}, {'t': 'procure'}, {'t': 'that'}, {'t': 'our'}, {'t': 'subjectes'}, {'t': 'male'}, {'t': 'enjoye'}, {'t': 'their'}, {'t': 'trade'}, {'t': 'with'}, {'t': 'out'}, {'t': 'oppression'}, {'t': 'by'}, {'t': 'any'}, {'t': 'innovacion'}, {'t': 'of'}, {'t': 'taxes'}, {'t': 'contrary'}, {'t': 'to'}, {'t': 'former'}, {'t': 'usage'}, {'t': '.'}, {'t': 'And'}, {'t': 'if'}, {'t': 'you'}, {'t': 'shall'}, {'t': 'heare'}, {'t': 'of'}, {'t': 'any'}, {'t': 'complaintes'}, {'t': 'of'}, {'t': 'the'}, {'t': 'Frenche'}, {'t': 'Kinges'}, {'t': 'subjectes'}, {'t': 'for'}, {'t': 'any'}, {'t': 'wronges'}, {'t': 'or'}, {'t': 'prises'}, {'t': 'committed'}, {'t': 'by'}, {'t': 'any'}, {'t': 'our'}, {'t': 'subjectes'}, {'t': ','}, {'t': 'you'}, {'t': 'shall'}, {'t': 'offer'}, {'t': 'to'}, {'t': 'enforme'}, {'t': 'us'}, {'t': 'or'}, {'t': 'our'}, {'t': 'Counsell'}, {'t': 'therof'}, {'t': ','}, {'t': 'and'}, {'t': 'so'}, {'t': 'procure'}, {'t': 'them'}, {'t': 'justice'}, {'t': 'with'}, {'t': 'favor'}, {'t': 'and'}, {'t': 'expedition.</p'}, {'t': '>'}, {'t': '<p>You'}, {'t': 'shall'}, {'t': 'also'}, {'t': 'be'}, {'t': 'informed'}, {'t': 'by'}, {'t': 'our'}, {'t': 'said'}, {'t': 'Treasurer'}, {'t': 'what'}, {'t': 'greate'}, {'t': 'sommes'}, {'t': 'of'}, {'t': 'money'}, {'t': 'and'}, {'t': 'what'}, {'t': 'municions'}, {'t': 'we'}, {'t': 'have'}, {'t': ','}, {'t': 'by'}, {'t': 'waie'}, {'t': 'of'}, {'t': 'imprestinge'}, {'t': ','}, {'t': 'yealded'}, {'t': 'to'}, {'t': 'the</p'}, {'t': '>'}, {'t': '<p'}, {'t': \">'\"}, {'t': 'Sermon'}, {'t': ','}, {'t': 'Rymer'}, {'t': '.'}, {'t': '^'}, {'t': 'See'}, {'t': 'the'}, {'t': 'document'}, {'t': 'appended'}, {'t': 'to'}, {'t': 'thjs'}, {'t': 'letter'}, {'t': ','}, {'t': 'p'}, {'t': '.'}, {'t': '4.</p'}, {'t': '>'}, {'t': '<p>A'}, {'t': '.'}, {'t': 'D'}, {'t': '.'}, {'t': '1591'}, {'t': '.]'}, {'t': '3</p'}, {'t': '>'}, {'t': '<p>saide'}, {'t': 'Kinge'}, {'t': 'since'}, {'t': 'he'}, {'t': 'came'}, {'t': 'to'}, {'t': 'the'}, {'t': 'crowne'}, {'t': ','}, {'t': 'and'}, {'t': 'how'}, {'t': 'the'}, {'t': 'same'}, {'t': 'is'}, {'t': 'dewe'}, {'t': 'to'}, {'t': 'us'}, {'t': 'i'}, {'t': 'so'}, {'t': 'as'}, {'t': 'when'}, {'t': 'you'}, {'t': 'shall'}, {'t': 'have'}, {'t': 'occasion'}, {'t': 'offered'}, {'t': 'to'}, {'t': 'speake'}, {'t': 'thereof'}, {'t': ','}, {'t': 'you'}, {'t': 'may'}, {'t': 'with'}, {'t': 'certeinty'}, {'t': 'declare'}, {'t': 'the'}, {'t': 'truth'}, {'t': 'therof'}, {'t': ','}, {'t': 'and'}, {'t': 'geive'}, {'t': 'cause'}, {'t': 'for'}, {'t': 'the'}, {'t': 'French'}, {'t': 'Kinge'}, {'t': 'and'}, {'t': 'his'}, {'t': 'counsell'}, {'t': 'to'}, {'t': 'acknowledge'}, {'t': 'the'}, {'t': 'greatness'}, {'t': 'of'}, {'t': 'our'}, {'t': 'friendshipp'}, {'t': ','}, {'t': 'having'}, {'t': 'without'}, {'t': 'respecte'}, {'t': 'of'}, {'t': 'our'}, {'t': 'oune'}, {'t': 'estate'}, {'t': 'yealded'}, {'t': 'him'}, {'t': 'such'}, {'t': 'aides'}, {'t': 'as'}, {'t': 'never'}, {'t': 'any'}, {'t': 'King'}, {'t': 'hath'}, {'t': 'done'}, {'t': 'the'}, {'t': 'like'}, {'t': 'to'}, {'t': 'any'}, {'t': 'other'}, {'t': '.'}, {'t': 'And'}, {'t': 'yett'}, {'t': 'you'}, {'t': 'shall'}, {'t': 'not'}, {'t': 'move'}, {'t': 'this'}, {'t': 'by'}, {'t': 'way'}, {'t': 'of'}, {'t': 'expostulacon'}, {'t': ','}, {'t': 'or'}, {'t': 'to'}, {'t': 'move'}, {'t': 'any'}, {'t': 'unkindness'}, {'t': 'therby'}, {'t': ','}, {'t': 'by'}, {'t': 'the'}, {'t': 'remembrance'}, {'t': 'of'}, {'t': 'our'}, {'t': 'benefittes'}, {'t': '.'}, {'t': 'And'}, {'t': 'you'}, {'t': 'shall'}, {'t': 'also'}, {'t': 'be'}, {'t': 'enformed'}, {'t': 'of'}, {'t': 'certeine'}, {'t': 'articles'}, {'t': 'of'}, {'t': 'covenants'}, {'t': 'lately'}, {'t': 'made'}, {'t': 'by'}, {'t': 'the'}, {'t': 'Kinges'}, {'t': 'ambassador'}, {'t': ','}, {'t': 'by'}, {'t': 'authoritie'}, {'t': 'of'}, {'t': 'the'}, {'t': 'Kinges'}, {'t': 'comission'}, {'t': ','}, {'t': 'howe'}, {'t': 'we'}, {'t': 'shalbe'}, {'t': 'reemboursed'}, {'t': 'the'}, {'t': 'saide'}, {'t': 'sommes.</p'}, {'t': '>'}, {'t': '<p>You'}, {'t': 'shall'}, {'t': 'also'}, {'t': 'consider'}, {'t': 'what'}, {'t': 'speciall'}, {'t': 'service'}, {'t': 'you'}, {'t': 'may'}, {'t': 'doe'}, {'t': 'to'}, {'t': 'us'}, {'t': 'in'}, {'t': 'havinge'}, {'t': 'regard'}, {'t': 'to'}, {'t': 'the'}, {'t': 'actions'}, {'t': 'of'}, {'t': 'our'}, {'t': 'cosen'}, {'t': 'the'}, {'t': 'earle'}, {'t': 'of'}, {'t': 'Essex'}, {'t': ','}, {'t': 'our'}, {'t': 'heutennant'}, {'t': 'generall'}, {'t': 'of'}, {'t': 'our'}, {'t': 'forces'}, {'t': ','}, {'t': 'givinge'}, {'t': 'him'}, {'t': 'understandinge'}, {'t': 'from'}, {'t': 'tyme'}, {'t': 'to'}, {'t': 'tyme'}, {'t': ','}, {'t': 'what'}, {'t': 'judgement'}, {'t': 'is'}, {'t': 'had'}, {'t': 'of'}, {'t': 'his'}, {'t': 'actions'}, {'t': ','}, {'t': 'approvinge'}, {'t': 'to'}, {'t': 'him'}, {'t': 'such'}, {'t': 'as'}, {'t': 'are'}, {'t': 'good'}, {'t': ','}, {'t': 'and'}, {'t': 'such'}, {'t': 'as'}, {'t': 'you'}, {'t': 'shall'}, {'t': 'knowe'}, {'t': 'or'}, {'t': 'heare'}, {'t': 'to'}, {'t': 'be'}, {'t': 'commended'}, {'t': ';'}, {'t': 'and'}, {'t': 'informing'}, {'t': 'him'}, {'t': 'of'}, {'t': 'such'}, {'t': 'thinges'}, {'t': 'as'}, {'t': 'you'}, {'t': 'shall'}, {'t': 'understand'}, {'t': 'to'}, {'t': 'be'}, {'t': 'contrary'}, {'t': ','}, {'t': 'givinge'}, {'t': 'him'}, {'t': 'good'}, {'t': 'advice'}, {'t': 'to'}, {'t': 'reforme'}, {'t': 'the'}, {'t': 'same'}, {'t': ';'}, {'t': 'and'}, {'t': 'in'}, {'t': 'soe'}, {'t': 'doinge'}, {'t': 'you'}, {'t': 'shall'}, {'t': 'please'}, {'t': 'us'}, {'t': ','}, {'t': 'and'}, {'t': 'therby'}, {'t': 'performe'}, {'t': 'the'}, {'t': 'duty'}, {'t': 'of'}, {'t': 'a'}, {'t': 'good'}, {'t': 'servante'}, {'t': 'and'}, {'t': 'the'}, {'t': 'office'}, {'t': 'of'}, {'t': 'a'}, {'t': 'pubUcke'}, {'t': 'minister'}, {'t': ','}, {'t': 'being'}, {'t': 'ther'}, {'t': 'as'}, {'t': 'our'}, {'t': 'ambassador'}, {'t': ';'}, {'t': 'and'}, {'t': 'in'}, {'t': 'truthe'}, {'t': 'you'}, {'t': 'shall'}, {'t': 'give'}, {'t': 'him'}, {'t': 'cause'}, {'t': 'to'}, {'t': 'love'}, {'t': 'you'}, {'t': ','}, {'t': 'though'}, {'t': 'hapelie'}, {'t': 'comonly'}, {'t': 'younge'}, {'t': 'noblemen'}, {'t': 'at'}, {'t': 'the'}, {'t': 'first'}, {'t': 'doe'}, {'t': 'not'}, {'t': 'imbrace'}, {'t': 'advertisements'}, {'t': 'of'}, {'t': 'thinges'}, {'t': 'to'}, {'t': 'be'}, {'t': 'reformed'}, {'t': '.'}, {'t': 'But'}, {'t': 'we'}, {'t': 'charge'}, {'t': 'you'}, {'t': 'uppon'}, {'t': 'your'}, {'t': 'duty'}, {'t': ','}, {'t': 'not'}, {'t': 'for'}, {'t': 'any'}, {'t': 'such'}, {'t': 'respecte'}, {'t': 'to'}, {'t': 'forbeare'}, {'t': 'to'}, {'t': 'deale'}, {'t': 'plainly'}, {'t': 'in'}, {'t': 'honorable'}, {'t': 'sorte'}, {'t': 'with'}, {'t': 'the'}, {'t': 'saide'}, {'t': 'earle.</p'}, {'t': '>'}, {'t': '<p>You'}, {'t': 'shall'}, {'t': 'use'}, {'t': 'all'}, {'t': 'good'}, {'t': 'diUgence'}, {'t': 'to'}, {'t': 'understande'}, {'t': 'in'}, {'t': 'what'}, {'t': 'places'}, {'t': 'of'}, {'t': 'France'}, {'t': 'any'}, {'t': 'of'}, {'t': 'our'}, {'t': 'subjectes'}, {'t': ','}, {'t': 'beinge'}, {'t': 'rebelles'}, {'t': 'or'}, {'t': 'fugitives'}, {'t': ','}, {'t': 'shall'}, {'t': 'remaine'}, {'t': ';'}, {'t': 'and'}, {'t': 'procure'}, {'t': 'to'}, {'t': 'the'}, {'t': 'best'}, {'t': 'of'}, {'t': 'your'}, {'t': 'power'}, {'t': 'that'}, {'t': 'they'}, {'t': 'may'}, {'t': 'be'}, {'t': 'by'}, {'t': 'the'}, {'t': 'Kinges'}, {'t': 'meanes'}, {'t': 'taken'}, {'t': ';'}, {'t': 'and'}, {'t': 'specially'}, {'t': 'uppon'}, {'t': 'the'}, {'t': 'takinge'}, {'t': 'of'}, {'t': 'any'}, {'t': 'towne'}, {'t': 'by'}, {'t': 'the'}, {'t': 'Kinge'}, {'t': ','}, {'t': 'wherin'}, {'t': 'any'}, {'t': 'English'}, {'t': '-'}, {'t': 'men'}, {'t': 'shalbe'}, {'t': 'founde'}, {'t': ','}, {'t': 'earnestly'}, {'t': 'to'}, {'t': 'require'}, {'t': 'them'}, {'t': 'to'}, {'t': 'be'}, {'t': 'taken'}, {'t': ','}, {'t': 'if'}, {'t': 'they'}, {'t': 'be'}, {'t': 'rebells'}, {'t': 'or'}, {'t': 'fugitives'}, {'t': '.'}, {'t': 'Or'}, {'t': 'if'}, {'t': 'they'}, {'t': 'shalbe'}, {'t': 'founde'}, {'t': 'to'}, {'t': 'have'}, {'t': 'been'}, {'t': 'taken'}, {'t': 'prisoners'}, {'t': 'in'}, {'t': 'those'}, {'t': 'townes'}, {'t': ','}, {'t': 'and'}, {'t': 'not'}, {'t': 'to'}, {'t': 'have'}, {'t': 'passed'}, {'t': 'out'}, {'t': 'of'}, {'t': 'our'}, {'t': 'realme'}, {'t': 'as'}, {'t': 'fugitives'}, {'t': ','}, {'t': 'you'}, {'t': 'shall'}, {'t': 'also'}, {'t': 'procure'}, {'t': 'their'}, {'t': 'deUvery'}, {'t': ','}, {'t': 'and'}, {'t': 'of'}, {'t': 'your'}, {'t': 'doings'}, {'t': 'herin'}, {'t': 'to'}, {'t': 'give'}, {'t': 'advertisement.</p'}, {'t': '>'}, {'t': '<p>Item'}, {'t': ','}, {'t': 'after'}, {'t': 'you'}, {'t': 'have'}, {'t': 'anie'}, {'t': 'good'}, {'t': 'knowledge'}, {'t': 'of'}, {'t': 'such'}, {'t': 'of'}, {'t': 'the'}, {'t': 'Kinges'}, {'t': 'counseU'}, {'t': ','}, {'t': 'or'}, {'t': 'of'}, {'t': 'any'}, {'t': 'other'}, {'t': 'men'}, {'t': 'of'}, {'t': 'quality'}, {'t': 'serving'}, {'t': 'the'}, {'t': 'King'}, {'t': ','}, {'t': 'whom'}, {'t': 'you'}, {'t': 'shall'}, {'t': 'understand'}, {'t': 'to'}, {'t': 'be'}, {'t': 'wise'}, {'t': 'and'}, {'t': 'well'}, {'t': 'affected'}, {'t': 'in'}, {'t': 'religion'}, {'t': ','}, {'t': 'you'}, {'t': 'shall'}, {'t': 'require'}, {'t': 'of'}, {'t': 'them'}, {'t': 'wherin'}, {'t': 'you'}, {'t': 'may'}, {'t': 'further'}, {'t': 'the'}, {'t': 'cause'}, {'t': 'of'}, {'t': 'reUgion'}, {'t': 'by'}, {'t': 'dealinge'}, {'t': 'with'}, {'t': 'the'}, {'t': 'French'}, {'t': 'Kinge'}, {'t': ';'}, {'t': 'for'}, {'t': 'that</p'}, {'t': '>'}, {'t': '<p'}, {'t': \">'\"}, {'t': 'See'}, {'t': 'the'}, {'t': 'document'}, {'t': 'printed'}, {'t': ','}, {'t': 'p'}, {'t': '.'}, {'t': '6.</p'}, {'t': '>'}, {'t': '<p>4'}, {'t': '[July,</p'}, {'t': '>'}, {'t': '<p>we'}, {'t': 'are'}, {'t': 'enformed'}, {'t': 'that'}, {'t': 'thoughe'}, {'t': 'the'}, {'t': 'Kinge'}, {'t': 'hathe'}, {'t': 'taken'}, {'t': 'manie'}, {'t': 'townes'}, {'t': 'and'}, {'t': 'places'}, {'t': 'of'}, {'t': 'charge'}, {'t': 'from'}, {'t': 'his'}, {'t': 'rebells'}, {'t': ','}, {'t': 'yett'}, {'t': 'the'}, {'t': 'matter'}, {'t': 'is'}, {'t': 'so'}, {'t': 'handled'}, {'t': 'by'}, {'t': 'the'}, {'t': 'Catholickes'}, {'t': 'as'}, {'t': 'few'}, {'t': 'or'}, {'t': 'none'}, {'t': 'of'}, {'t': 'such'}, {'t': 'as'}, {'t': 'have'}, {'t': 'been'}, {'t': 'dutiftill'}, {'t': 'servantes'}, {'t': 'to'}, {'t': 'the'}, {'t': 'King'}, {'t': 'of'}, {'t': 'longe'}, {'t': 'tyme'}, {'t': ','}, {'t': 'and'}, {'t': 'are'}, {'t': 'knowen'}, {'t': 'to'}, {'t': 'be'}, {'t': 'of'}, {'t': 'the'}, {'t': 'religion'}, {'t': ','}, {'t': 'are'}, {'t': 'placed'}, {'t': 'in'}, {'t': 'any'}, {'t': 'of'}, {'t': 'those'}, {'t': 'places'}, {'t': ','}, {'t': 'wherby'}, {'t': 'the'}, {'t': 'Kinge'}, {'t': 'can'}, {'t': 'be'}, {'t': 'so'}, {'t': 'sure'}, {'t': 'of'}, {'t': 'the'}, {'t': 'said'}, {'t': 'places'}, {'t': ','}, {'t': 'and'}, {'t': 'yett'}, {'t': 'his'}, {'t': 'most'}, {'t': 'trustie'}, {'t': 'servantes'}, {'t': 'comforted'}, {'t': 'or'}, {'t': 'releived'}, {'t': '.'}, {'t': 'And'}, {'t': 'if'}, {'t': 'you'}, {'t': 'shall'}, {'t': 'find'}, {'t': 'this'}, {'t': 'to'}, {'t': 'be'}, {'t': 'treue'}, {'t': ','}, {'t': 'uppon'}, {'t': 'confe'}, {'t': '-'}, {'t': 'rence'}, {'t': 'with'}, {'t': 'persons'}, {'t': 'of'}, {'t': 'understandinge'}, {'t': ','}, {'t': 'you'}, {'t': 'shall'}, {'t': 'take'}, {'t': 'convenient'}, {'t': 'tyme'}, {'t': 'to'}, {'t': 'imparte'}, {'t': 'this'}, {'t': 'to'}, {'t': 'the'}, {'t': 'Kinge'}, {'t': ','}, {'t': 'as'}, {'t': 'so'}, {'t': 'directed'}, {'t': 'bi'}, {'t': 'us'}, {'t': ','}, {'t': 'and'}, {'t': 'earnestly'}, {'t': 'move'}, {'t': 'him'}, {'t': 'to'}, {'t': 'remedie'}, {'t': 'this'}, {'t': ';'}, {'t': 'wherin'}, {'t': 'you'}, {'t': 'shall'}, {'t': 'doe'}, {'t': 'weU'}, {'t': ','}, {'t': 'and'}, {'t': 'soe'}, {'t': 'deale'}, {'t': 'as'}, {'t': 'the'}, {'t': 'counsellors'}, {'t': 'professinge'}, {'t': 'the'}, {'t': 'Catholicke'}, {'t': 'relligion'}, {'t': 'male'}, {'t': 'understand'}, {'t': 'your'}, {'t': 'doinges'}, {'t': 'therin.</p'}, {'t': '>'}, {'t': '<p>For'}, {'t': 'your'}, {'t': 'first'}, {'t': 'accesse'}, {'t': 'to'}, {'t': 'the'}, {'t': 'Kinge'}, {'t': ','}, {'t': 'consideringe'}, {'t': 'we'}, {'t': 'have'}, {'t': 'no'}, {'t': 'minister'}, {'t': 'of'}, {'t': \"our's\"}, {'t': 'to'}, {'t': 'procure'}, {'t': 'your'}, {'t': 'audience'}, {'t': 'and'}, {'t': 'to'}, {'t': 'present'}, {'t': 'you'}, {'t': 'to'}, {'t': 'the'}, {'t': 'Kinge'}, {'t': ','}, {'t': 'you'}, {'t': 'shall'}, {'t': 'have'}, {'t': 'letters'}, {'t': 'from'}, {'t': 'the'}, {'t': 'French'}, {'t': 'ambassadour'}, {'t': 'here'}, {'t': 'resident'}, {'t': ','}, {'t': 'either'}, {'t': 'to'}, {'t': 'the'}, {'t': 'Kinge'}, {'t': 'him'}, {'t': 'selfe'}, {'t': ','}, {'t': 'or'}, {'t': 'to'}, {'t': 'some'}, {'t': 'of'}, {'t': 'the'}, {'t': 'principaU'}, {'t': '.'}, {'t': 'of'}, {'t': 'his'}, {'t': 'counsell'}, {'t': 'to'}, {'t': 'procure'}, {'t': 'for'}, {'t': 'you'}, {'t': 'bothe'}, {'t': 'accesse'}, {'t': 'and'}, {'t': 'audience'}, {'t': ','}, {'t': 'and'}, {'t': 'for'}, {'t': 'your'}, {'t': 'continewance'}, {'t': 'their'}, {'t': 'afterwardes'}, {'t': 'to'}, {'t': 'have'}, {'t': 'audience'}, {'t': ','}, {'t': 'Sir'}, {'t': 'Edward'}, {'t': 'Stafford'}, {'t': '^'}, {'t': 'shall'}, {'t': 'enforme'}, {'t': 'you'}, {'t': 'howe'}, {'t': 'he'}, {'t': 'was'}, {'t': 'accus'}, {'t': '-'}, {'t': 'tomed'}, {'t': 'to'}, {'t': 'doe.2</p'}, {'t': '>'}, {'t': '<p>W'}, {'t': '.'}, {'t': 'BUBGHLBY'}, {'t': '.'}, {'t': '*</p'}, {'t': '>'}, {'t': '</body'}, {'t': '>'}, {'t': '</text'}, {'t': '>'}, {'t': '</TEI'}, {'t': '>'}]\n"
     ]
    }
   ],
   "source": [
    "\n",
    "#input = open(\"/Users/ewilliamson.FOLGER2000/GitWorkspace/Institute-Materials-2017/schedule/week_2/Print-UntonCorres-lres.txt\", encoding='utf-8').read()\n",
    "words = re.split(r'\\s+', contents)\n",
    "tokens_by_word = [re.findall(r'.*\\w|\\W+$', word) for word in words]\n",
    "tokens = []\n",
    "for item in tokens_by_word:\n",
    "    tokens.extend(item)\n",
    "token_list = [{\"t\": token} for token in tokens]\n",
    "print(token_list)"
   ]
  },
  {
   "cell_type": "markdown",
   "metadata": {},
   "source": [
    "Since we want to tokenize all of our witnesses, let’s turn our tokenization routine into a Python function that we can call with different input text:"
   ]
  },
  {
   "cell_type": "code",
   "execution_count": 16,
   "metadata": {},
   "outputs": [
    {
     "data": {
      "text/plain": [
       "{'witnesses': [{'id': 'A',\n",
       "   'tokens': [{'t': '\"'}, {'t': 'Peters'}, {'t': 'cat-dog'}, {'t': '.'}]},\n",
       "  {'id': 'B',\n",
       "   'tokens': [{'t': 'Peter'}, {'t': \"'s\"}, {'t': 'dog'}, {'t': '.'}]}]}"
      ]
     },
     "execution_count": 16,
     "metadata": {},
     "output_type": "execute_result"
    }
   ],
   "source": [
    "def tokenize(input):\n",
    "    words = re.split(r'\\s+', input) # split on whitespace\n",
    "    tokens_by_word = [re.findall(r'\\'s|[\\w-]*\\w|\"|\\W+$', word) for word in words] # break off final punctuation\n",
    "    #r'\\w+|\\W$|\\W\\w' alternative regex\n",
    "    tokens = []\n",
    "    for item in tokens_by_word:\n",
    "        tokens.extend(item)\n",
    "    token_list = [{\"t\": token} for token in tokens] # create dictionaries for each token\n",
    "    return token_list\n",
    "\n",
    "input_a = '\"Peters cat-dog.'\n",
    "input_b = \"Peter's dog.\"\n",
    "\n",
    "tokens_a = tokenize(input_a)\n",
    "tokens_b = tokenize(input_b)\n",
    "witness_a = { \"id\": \"A\", \"tokens\": tokens_a }\n",
    "witness_b = { \"id\": \"B\", \"tokens\": tokens_b }\n",
    "input = { \"witnesses\": [ witness_a, witness_b ] }\n",
    "input"
   ]
  },
  {
   "cell_type": "markdown",
   "metadata": {},
   "source": [
    "Let's see how it worked! Here is how to give the tokens to CollateX."
   ]
  },
  {
   "cell_type": "code",
   "execution_count": 49,
   "metadata": {},
   "outputs": [
    {
     "name": "stdout",
     "output_type": "stream",
     "text": [
      "+---+-------+----+---------+---+\n",
      "| A | Peter | 's | cat-dog | . |\n",
      "| B | Peter | 's | dog     | . |\n",
      "+---+-------+----+---------+---+\n"
     ]
    }
   ],
   "source": [
    "table = collate(input, segmentation=False)\n",
    "print(table)"
   ]
  },
  {
   "cell_type": "markdown",
   "metadata": {},
   "source": [
    "## Hands-on\n",
    "\n",
    "### The task\n",
    "\n",
    "Suppose you want to keep the default tokenization (punctuation is always a separate token), except that:\n",
    "\n",
    "1. Words should not break on internal hyphenation. For example, “hands-on” should be treated as one word.\n",
    "1. English possessive apostrophe + “s” should be its own token. For example, “Peter’s” should be tokenized as “Peter” plus “’s”.\n",
    "\n",
    "### How to think about the task\n",
    "\n",
    "1. Create a regular expression that mimics the default behavior, where punctuation is a separate token.\n",
    "1. Enhance it to exclude hyphens from the inventory of punctuation that signals a token division.\n",
    "1. Enhance it to treat “’s” as a separate token.\n",
    "\n",
    "You can practice your regular expressions at http://www.regexpal.com/.\n",
    "\n",
    "### Sample sentence\n",
    "\n",
    "Peter’s cat has completed the hands-on tokenization exercise."
   ]
  },
  {
   "cell_type": "code",
   "execution_count": 15,
   "metadata": {},
   "outputs": [
    {
     "name": "stdout",
     "output_type": "stream",
     "text": [
      "[\"Peter's\", 'cat-dog.']\n",
      "[[\"Peter's\"], ['cat-dog', '.']]\n"
     ]
    }
   ],
   "source": [
    "## Your code goes here\n",
    "input = \"Peter's cat-dog.\"\n",
    "words = re.split(r'\\s+', input)\n",
    "print(words)\n",
    "#words_split = re.findall(r'')\n",
    "tokens_by_word = [re.findall(r'.*\\w|\\W+$', word) for word in words]\n",
    "print(tokens_by_word)"
   ]
  },
  {
   "cell_type": "markdown",
   "metadata": {},
   "source": [
    "## The next step: tokenizing XML\n",
    "\n",
    "After all that work on marking up your document in XML, you are certainly going to want to tokenize it! This works in basically the same way, only we also have to learn to use an XML parser.\n",
    "\n",
    "Personally I favor the [lxml.etree library](http://lxml.de/tutorial.html), though its methods of handling text nodes takes some getting used to. If you have experience with more standard XML parsing models, take a look at the [Integrating XML with Python](Integrating%20XML%20with%20Python.ipynb) notebook in this directory. We will see as we go along how etree works.\n",
    "\n",
    "For this exercise, let's tokenize the Ozymandias file that we were working on yesterday. It's a good idea to work with \"our\" version of the file until you understand what is going on here, but once you think you have the hang of it, feel free to try it with the file you marked up!"
   ]
  },
  {
   "cell_type": "code",
   "execution_count": 16,
   "metadata": {},
   "outputs": [
    {
     "name": "stdout",
     "output_type": "stream",
     "text": [
      "Got an ElementTree with root tag {http://www.tei-c.org/ns/1.0}TEI\n",
      "<?xml-model href=\"file:/C:/Users/ewilliamson.FOLGER2000/Desktop/UntonEdition/tei_ms.rng\" type=\"application/xml\" schematypens=\"http://relaxng.org/ns/structure/1.0\"?><TEI xmlns=\"http://www.tei-c.org/ns/1.0\">\n",
      "<teiHeader>\n",
      "  <fileDesc>\n",
      "    <titleStmt><title>Correspondence of Sir Henry Unton, knt., ambassador from Queen Elizabeth to Henry IV. king of France, in the years MDXCI. and MDXCII</title>\n",
      "    </titleStmt>\n",
      "    <publicationStmt>\n",
      "      <p>Under development.</p>\n",
      "          </publicationStmt>\n",
      "    <sourceDesc>\n",
      "      <p>Converted initially by pandoc from txt to xml.</p><p>Edited text from The Internet Archive's OCR version of Cornell University Library's copy of the Unton Correspondence (DA 350.U61). <ref target=\"http://www.archive.org/details/cu31924027964471\">See more.</ref></p>\n",
      "    </sourceDesc>\n",
      "  </fileDesc>\n",
      "</teiHeader>\n",
      "<text>\n",
      "<body>\n",
      "<p>1591, July 24.</p>\n",
      "<p>Instructions for Sir Henry Unton, Knight, ordered\n",
      "<lb/>and sent to be the Queene's Ambassador with the \n",
      "<lb/>ELIZABETH R. French Kinge to whom her Majes<abbr type=\"superscript\">ties</abbr> hath written\n",
      "her \n",
      "<lb/>letters of credence with the said Sir Henry Unton, \n",
      "<lb/>which he shall at his first accesse present to the Kinge, \n",
      "<lb/>dated the xxiiij<abbr type=\"superscript\">th</abbr> of July, 1591. \n",
      "<lb/>The authoritie which you shall have to be our ambassador to the\n",
      "French \n",
      "<lb/>Kinge shall be warranted by our speciall letters unto the Kinge,\n",
      "signifiinge that \n",
      "<lb/>we have made speciall choise of you to have that place ; and\n",
      "requiringe the \n",
      "<lb/>Kinge to credit you in all such thinges as you shall by our\n",
      "commandement, or \n",
      "<lb/>in our name propounde, declare, or require ; as he would give credit\n",
      "to our \n",
      "<lb/>seLfe. And therfore we doubte not but you will advisedly consider at\n",
      "all \n",
      "<lb/>tymes by your wisdome, gravitie and temperance, to order all your\n",
      "actions, \n",
      "<lb/>not only in your accesses and speches with the Kinge, but also have\n",
      "good \n",
      "<lb/>regarde in all other your behavioiu's and conversations with all\n",
      "persons, to \n",
      "<lb/>preserve the estimacion of us and our royal dignitie, as our\n",
      "ambassador, and, \n",
      "<lb/>in a certain manner, representinge our person.</p>\n",
      "<p>For the first and principall pointe of your charge, you shall in noe\n",
      "one thinge better performe your dutie and uphold your reputacon, then in\n",
      "ob- servinge of the rites of religion, and in service of God to foUowe\n",
      "the forme of Common Dailey Prayers, bothe by your selfe and houshold,\n",
      "accordinge to the Church of England, as it is established by lawe ;\n",
      "wherby you may appeare abroade to be a dutiful subjecte to the lawes of\n",
      "your naturall coun trey, without impugninge or contendinge with the\n",
      "rites and usages of the Church of France,</p>\n",
      "<p>' The original instructions signed by Lord Burghley are in the Cott.\n",
      "MS. Calig. E. viii. fol. 194. Another copy is in the same volume, fol.\n",
      "69, and n third in the State Paper OflBce. See Rymer's Feed. xvi. 103.\n",
      "Sir Henry's allowance was fixed at &#163;4 6 8 per diem.</p>\n",
      "<p>B</p>\n",
      "<p>2 [July,</p>\n",
      "<p>as matters not aperteyninge to your charge. And yett if you shall\n",
      "have cause to be with the Kinge at any time when he shalbe att any\n",
      "service/ you shall not refuse to attende uppon him.</p>\n",
      "<p>You shall also have regard to mainteine the dignitie of us and our\n",
      "crowne in all assembhes and proceedinges for your place and precedencie,\n",
      "as in right to geive place to noe other princes' ambassadors, but to the\n",
      "emperor's, for in truthe none ells but a French Kinge out to have place\n",
      "before us.</p>\n",
      "<p>Item, you shall seeke to acquainte your selfe with the ambassadors of\n",
      "Venice and of the duke of Florence, whose superiors and lords do\n",
      "professe good friendshippe towards us ; and by them you shall come to\n",
      "intelligencies of the affaires of Itallye, as of the Pope's and the\n",
      "Kinge of Spaine's, and ther confederates, and you shall use to acquainte\n",
      "them with all good occurrences which you shall receive of our\n",
      "proceadinges ; and, as you shall see cause, to satisfye them also with\n",
      "the truthe of our actions, contrary unto the untreue slanders of our\n",
      "enemies and rebells.</p>\n",
      "<p>If any shall come to the French Kinge from the Kinge of Scottes, the\n",
      "Kinge of Denmarke, or from any of the Protestant Princes of the Empire,\n",
      "or from the Protestant Cantons, you shall by your conferences with them\n",
      "let them severally understand how freindly we doe make accounte of their\n",
      "superiors and lordes.</p>\n",
      "<p>You shall have good regarde to all negotiacions that male be under\n",
      "hande attempted to make accorde or abstinences of warres betwixte France\n",
      "and Spayne.</p>\n",
      "<p>You shall receive informacion by our Treasurer of England, as one ac-\n",
      "quainted there with, of the principall pointes of such treaties and\n",
      "leagues for amitie as are extant betweene us and that crowne, and also\n",
      "for entercourse and traffique betweene our subjects for marchandise ; ^\n",
      "and you shall endeavour your selfe to see the same duely observed, and\n",
      "at all tymes to procure that our subjectes male enjoye their trade with\n",
      "out oppression by any innovacion of taxes contrary to former usage. And\n",
      "if you shall heare of any complaintes of the Frenche Kinges subjectes\n",
      "for any wronges or prises committed by any our subjectes, you shall\n",
      "offer to enforme us or our Counsell therof, and so procure them justice\n",
      "with favor and expedition.</p>\n",
      "<p>You shall also be informed by our said Treasurer what greate sommes\n",
      "of money and what municions we have, by waie of imprestinge, yealded to\n",
      "the</p>\n",
      "<p>' Sermon, Rymer. ^ See the document appended to thjs letter, p.\n",
      "4.</p>\n",
      "<p>A. D. 1591.] 3</p>\n",
      "<p>saide Kinge since he came to the crowne, and how the same is dewe to\n",
      "us i so as when you shall have occasion offered to speake thereof, you\n",
      "may with certeinty declare the truth therof, and geive cause for the\n",
      "French Kinge and his counsell to acknowledge the greatness of our\n",
      "friendshipp, having without respecte of our oune estate yealded him such\n",
      "aides as never any King hath done the like to any other. And yett you\n",
      "shall not move this by way of expostulacon, or to move any unkindness\n",
      "therby, by the remembrance of our benefittes. And you shall also be\n",
      "enformed of certeine articles of covenants lately made by the Kinges\n",
      "ambassador, by authoritie of the Kinges comission, howe we shalbe\n",
      "reemboursed the saide sommes.</p>\n",
      "<p>You shall also consider what speciall service you may doe to us in\n",
      "havinge regard to the actions of our cosen the earle of Essex, our\n",
      "heutennant generall of our forces, givinge him understandinge from tyme\n",
      "to tyme, what judgement is had of his actions, approvinge to him such as\n",
      "are good, and such as you shall knowe or heare to be commended ; and\n",
      "informing him of such thinges as you shall understand to be contrary,\n",
      "givinge him good advice to reforme the same ; and in soe doinge you\n",
      "shall please us, and therby performe the duty of a good servante and the\n",
      "office of a pubUcke minister, being ther as our ambassador ; and in\n",
      "truthe you shall give him cause to love you, though hapelie comonly\n",
      "younge noblemen at the first doe not imbrace advertisements of thinges\n",
      "to be reformed. But we charge you uppon your duty, not for any such\n",
      "respecte to forbeare to deale plainly in honorable sorte with the saide\n",
      "earle.</p>\n",
      "<p>You shall use all good diUgence to understande in what places of\n",
      "France any of our subjectes, beinge rebelles or fugitives, shall remaine\n",
      "; and procure to the best of your power that they may be by the Kinges\n",
      "meanes taken ; and specially uppon the takinge of any towne by the\n",
      "Kinge, wherin any English- men shalbe founde, earnestly to require them\n",
      "to be taken, if they be rebells or fugitives. Or if they shalbe founde\n",
      "to have been taken prisoners in those townes, and not to have passed out\n",
      "of our realme as fugitives, you shall also procure their deUvery, and of\n",
      "your doings herin to give advertisement.</p>\n",
      "<p>Item, after you have anie good knowledge of such of the Kinges\n",
      "counseU, or of any other men of quality serving the King, whom you shall\n",
      "understand to be wise and well affected in religion, you shall require of\n",
      "them wherin you may further the cause of reUgion by dealinge with the\n",
      "French Kinge ; for that</p>\n",
      "<p>' See the document printed, p. 6.</p>\n",
      "<p>4 [July,</p>\n",
      "<p>we are enformed that thoughe the Kinge hathe taken manie townes and\n",
      "places of charge from his rebells, yett the matter is so handled by the\n",
      "Catholickes as few or none of such as have been dutiftill servantes to\n",
      "the King of longe tyme, and are knowen to be of the religion, are placed\n",
      "in any of those places, wherby the Kinge can be so sure of the said\n",
      "places, and yett his most trustie servantes comforted or releived. And\n",
      "if you shall find this to be treue, uppon confe- rence with persons of\n",
      "understandinge, you shall take convenient tyme to imparte this to the\n",
      "Kinge, as so directed bi us, and earnestly move him to remedie this ;\n",
      "wherin you shall doe weU, and soe deale as the counsellors professinge\n",
      "the Catholicke relligion male understand your doinges therin.</p>\n",
      "<p>For your first accesse to the Kinge, consideringe we have no minister\n",
      "of our's to procure your audience and to present you to the Kinge, you\n",
      "shall have letters from the French ambassadour here resident, either to\n",
      "the Kinge him selfe, or to some of the principaU. of his counsell to\n",
      "procure for you bothe accesse and audience, and for your continewance\n",
      "their afterwardes to have audience, Sir Edward Stafford ^ shall enforme\n",
      "you howe he was accus- tomed to doe.2</p>\n",
      "<p>W. BUBGHLBY. *</p>\n",
      "</body>\n",
      "</text>\n",
      "</TEI>\n"
     ]
    }
   ],
   "source": [
    "from lxml import etree\n",
    "\n",
    "with open('Print-UntonInstructions.xml', encoding='utf-8') as f:\n",
    "    unt = etree.parse(f)\n",
    "\n",
    "print(\"Got an ElementTree with root tag\", unt.getroot().tag)\n",
    "print(etree.tostring(unt).decode('utf-8'))  #need to do this because it prints as byte string, but want to decode back to regular string"
   ]
  },
  {
   "cell_type": "markdown",
   "metadata": {},
   "source": [
    "Notice here what ETree does with the namespace! It doesn't naturally like namespace prefixes like `tei:`, but prefers to just stick the entire URL in curly braces. We can make a little shortcut to do this for us, and then we can use it to find our elements."
   ]
  },
  {
   "cell_type": "code",
   "execution_count": 17,
   "metadata": {},
   "outputs": [
    {
     "data": {
      "text/plain": [
       "'{http://www.tei-c.org/ns/1.0}text'"
      ]
     },
     "execution_count": 17,
     "metadata": {},
     "output_type": "execute_result"
    }
   ],
   "source": [
    "def tei(tag):\n",
    "    return \"{http://www.tei-c.org/ns/1.0}%s\" % tag\n",
    "\n",
    "tei('text')"
   ]
  },
  {
   "cell_type": "markdown",
   "metadata": {},
   "source": [
    "In our Ozymandias file, the words of the poem are contained in phrases. So let's start by seeking out all the `<phr>` elements and getting their text."
   ]
  },
  {
   "cell_type": "code",
   "execution_count": 23,
   "metadata": {},
   "outputs": [
    {
     "name": "stdout",
     "output_type": "stream",
     "text": [
      "Under development.\n",
      "Converted initially by pandoc from txt to xml.\n",
      "Edited text from The Internet Archive's OCR version of Cornell University Library's copy of the Unton Correspondence (DA 350.U61). \n",
      "1591, July 24.\n",
      "Instructions for Sir Henry Unton, Knight, ordered\n",
      "\n",
      "For the first and principall pointe of your charge, you shall in noe\n",
      "one thinge better performe your dutie and uphold your reputacon, then in\n",
      "ob- servinge of the rites of religion, and in service of God to foUowe\n",
      "the forme of Common Dailey Prayers, bothe by your selfe and houshold,\n",
      "accordinge to the Church of England, as it is established by lawe ;\n",
      "wherby you may appeare abroade to be a dutiful subjecte to the lawes of\n",
      "your naturall coun trey, without impugninge or contendinge with the\n",
      "rites and usages of the Church of France,\n",
      "' The original instructions signed by Lord Burghley are in the Cott.\n",
      "MS. Calig. E. viii. fol. 194. Another copy is in the same volume, fol.\n",
      "69, and n third in the State Paper OflBce. See Rymer's Feed. xvi. 103.\n",
      "Sir Henry's allowance was fixed at £4 6 8 per diem.\n",
      "B\n",
      "2 [July,\n",
      "as matters not aperteyninge to your charge. And yett if you shall\n",
      "have cause to be with the Kinge at any time when he shalbe att any\n",
      "service/ you shall not refuse to attende uppon him.\n",
      "You shall also have regard to mainteine the dignitie of us and our\n",
      "crowne in all assembhes and proceedinges for your place and precedencie,\n",
      "as in right to geive place to noe other princes' ambassadors, but to the\n",
      "emperor's, for in truthe none ells but a French Kinge out to have place\n",
      "before us.\n",
      "Item, you shall seeke to acquainte your selfe with the ambassadors of\n",
      "Venice and of the duke of Florence, whose superiors and lords do\n",
      "professe good friendshippe towards us ; and by them you shall come to\n",
      "intelligencies of the affaires of Itallye, as of the Pope's and the\n",
      "Kinge of Spaine's, and ther confederates, and you shall use to acquainte\n",
      "them with all good occurrences which you shall receive of our\n",
      "proceadinges ; and, as you shall see cause, to satisfye them also with\n",
      "the truthe of our actions, contrary unto the untreue slanders of our\n",
      "enemies and rebells.\n",
      "If any shall come to the French Kinge from the Kinge of Scottes, the\n",
      "Kinge of Denmarke, or from any of the Protestant Princes of the Empire,\n",
      "or from the Protestant Cantons, you shall by your conferences with them\n",
      "let them severally understand how freindly we doe make accounte of their\n",
      "superiors and lordes.\n",
      "You shall have good regarde to all negotiacions that male be under\n",
      "hande attempted to make accorde or abstinences of warres betwixte France\n",
      "and Spayne.\n",
      "You shall receive informacion by our Treasurer of England, as one ac-\n",
      "quainted there with, of the principall pointes of such treaties and\n",
      "leagues for amitie as are extant betweene us and that crowne, and also\n",
      "for entercourse and traffique betweene our subjects for marchandise ; ^\n",
      "and you shall endeavour your selfe to see the same duely observed, and\n",
      "at all tymes to procure that our subjectes male enjoye their trade with\n",
      "out oppression by any innovacion of taxes contrary to former usage. And\n",
      "if you shall heare of any complaintes of the Frenche Kinges subjectes\n",
      "for any wronges or prises committed by any our subjectes, you shall\n",
      "offer to enforme us or our Counsell therof, and so procure them justice\n",
      "with favor and expedition.\n",
      "You shall also be informed by our said Treasurer what greate sommes\n",
      "of money and what municions we have, by waie of imprestinge, yealded to\n",
      "the\n",
      "' Sermon, Rymer. ^ See the document appended to thjs letter, p.\n",
      "4.\n",
      "A. D. 1591.] 3\n",
      "saide Kinge since he came to the crowne, and how the same is dewe to\n",
      "us i so as when you shall have occasion offered to speake thereof, you\n",
      "may with certeinty declare the truth therof, and geive cause for the\n",
      "French Kinge and his counsell to acknowledge the greatness of our\n",
      "friendshipp, having without respecte of our oune estate yealded him such\n",
      "aides as never any King hath done the like to any other. And yett you\n",
      "shall not move this by way of expostulacon, or to move any unkindness\n",
      "therby, by the remembrance of our benefittes. And you shall also be\n",
      "enformed of certeine articles of covenants lately made by the Kinges\n",
      "ambassador, by authoritie of the Kinges comission, howe we shalbe\n",
      "reemboursed the saide sommes.\n",
      "You shall also consider what speciall service you may doe to us in\n",
      "havinge regard to the actions of our cosen the earle of Essex, our\n",
      "heutennant generall of our forces, givinge him understandinge from tyme\n",
      "to tyme, what judgement is had of his actions, approvinge to him such as\n",
      "are good, and such as you shall knowe or heare to be commended ; and\n",
      "informing him of such thinges as you shall understand to be contrary,\n",
      "givinge him good advice to reforme the same ; and in soe doinge you\n",
      "shall please us, and therby performe the duty of a good servante and the\n",
      "office of a pubUcke minister, being ther as our ambassador ; and in\n",
      "truthe you shall give him cause to love you, though hapelie comonly\n",
      "younge noblemen at the first doe not imbrace advertisements of thinges\n",
      "to be reformed. But we charge you uppon your duty, not for any such\n",
      "respecte to forbeare to deale plainly in honorable sorte with the saide\n",
      "earle.\n",
      "You shall use all good diUgence to understande in what places of\n",
      "France any of our subjectes, beinge rebelles or fugitives, shall remaine\n",
      "; and procure to the best of your power that they may be by the Kinges\n",
      "meanes taken ; and specially uppon the takinge of any towne by the\n",
      "Kinge, wherin any English- men shalbe founde, earnestly to require them\n",
      "to be taken, if they be rebells or fugitives. Or if they shalbe founde\n",
      "to have been taken prisoners in those townes, and not to have passed out\n",
      "of our realme as fugitives, you shall also procure their deUvery, and of\n",
      "your doings herin to give advertisement.\n",
      "Item, after you have anie good knowledge of such of the Kinges\n",
      "counseU, or of any other men of quality serving the King, whom you shall\n",
      "understand to be wise and well affected in religion, you shall require of\n",
      "them wherin you may further the cause of reUgion by dealinge with the\n",
      "French Kinge ; for that\n",
      "' See the document printed, p. 6.\n",
      "4 [July,\n",
      "we are enformed that thoughe the Kinge hathe taken manie townes and\n",
      "places of charge from his rebells, yett the matter is so handled by the\n",
      "Catholickes as few or none of such as have been dutiftill servantes to\n",
      "the King of longe tyme, and are knowen to be of the religion, are placed\n",
      "in any of those places, wherby the Kinge can be so sure of the said\n",
      "places, and yett his most trustie servantes comforted or releived. And\n",
      "if you shall find this to be treue, uppon confe- rence with persons of\n",
      "understandinge, you shall take convenient tyme to imparte this to the\n",
      "Kinge, as so directed bi us, and earnestly move him to remedie this ;\n",
      "wherin you shall doe weU, and soe deale as the counsellors professinge\n",
      "the Catholicke relligion male understand your doinges therin.\n",
      "For your first accesse to the Kinge, consideringe we have no minister\n",
      "of our's to procure your audience and to present you to the Kinge, you\n",
      "shall have letters from the French ambassadour here resident, either to\n",
      "the Kinge him selfe, or to some of the principaU. of his counsell to\n",
      "procure for you bothe accesse and audience, and for your continewance\n",
      "their afterwardes to have audience, Sir Edward Stafford ^ shall enforme\n",
      "you howe he was accus- tomed to doe.2\n",
      "W. BUBGHLBY. *\n"
     ]
    }
   ],
   "source": [
    "for word in unt.xpath(\"//tei:p\", namespaces={'tei': 'http://www.tei-c.org/ns/1.0'}):\n",
    "    print(word.text)"
   ]
  },
  {
   "cell_type": "code",
   "execution_count": 2,
   "metadata": {},
   "outputs": [
    {
     "ename": "NameError",
     "evalue": "name 'word' is not defined",
     "output_type": "error",
     "traceback": [
      "\u001b[1;31m---------------------------------------------------------------------------\u001b[0m",
      "\u001b[1;31mNameError\u001b[0m                                 Traceback (most recent call last)",
      "\u001b[1;32m<ipython-input-2-277bf6ffb64f>\u001b[0m in \u001b[0;36m<module>\u001b[1;34m()\u001b[0m\n\u001b[1;32m----> 1\u001b[1;33m \u001b[0mfirstline\u001b[0m \u001b[1;33m=\u001b[0m \u001b[0mword\u001b[0m\u001b[1;33m[\u001b[0m\u001b[1;36m0\u001b[0m\u001b[1;33m]\u001b[0m\u001b[1;33m.\u001b[0m\u001b[0mxpath\u001b[0m\u001b[1;33m(\u001b[0m\u001b[1;34m'./text()'\u001b[0m\u001b[1;33m)\u001b[0m\u001b[1;33m\u001b[0m\u001b[0m\n\u001b[0m",
      "\u001b[1;31mNameError\u001b[0m: name 'word' is not defined"
     ]
    }
   ],
   "source": [
    "firstline = word[0].xpath('./text()')"
   ]
  },
  {
   "cell_type": "markdown",
   "metadata": {},
   "source": [
    "This looks plausible at first, but we notice pretty soon that we are missing pieces of line - the third line, for example, should read something like\n",
    "\n",
    "    \"Two vast and trunkless legs of stone\n",
    "    <lb/>Stand in the desart.... \n",
    "    \n",
    "What's going on?\n",
    "\n",
    "Here is the slightly mind-bending thing about ETree: each element has not only textual content, but can also have a text *tail*. In this case, the `<phr>` element has the following contents:\n",
    "\n",
    "* Text content: `Two vast and trunkless legs of stone\\n`\n",
    "* A child element: `<lb/>`\n",
    "\n",
    "The `<lb/>` has no content, but it does have a tail! The tail is `Stand in the desart.... ` and we have to ask for it separately. So let's try this - instead of getting just the text of each element, let's get its text **AND** the tail of any child elements. Here's how we do that."
   ]
  },
  {
   "cell_type": "code",
   "execution_count": 11,
   "metadata": {},
   "outputs": [
    {
     "name": "stdout",
     "output_type": "stream",
     "text": [
      "\n",
      "\n",
      "\n",
      "\n",
      "\n",
      "\n",
      "\n",
      "\n",
      "\n",
      "\n",
      "\n",
      "\n",
      "\n",
      "\n",
      "\n",
      "\n",
      "\n",
      "\n",
      "\n",
      "\n",
      "\n",
      "\n",
      "\n",
      "\n",
      "\n",
      "\n",
      "\n",
      "\n",
      "\n",
      "\n",
      "\n",
      "\n",
      "\n",
      "\n",
      "\n",
      "\n",
      "\n",
      "\n",
      "\n",
      "\n",
      "\n",
      "\n",
      "\n",
      "\n",
      "\n",
      "\n",
      "\n",
      "\n",
      "\n",
      "\n",
      "\n",
      "\n",
      "\n",
      "\n",
      "\n",
      "\n",
      "\n",
      "\n",
      "\n",
      "\n",
      "\n",
      "\n",
      "\n",
      "\n",
      "\n",
      "\n",
      "\n",
      "\n",
      "\n",
      "\n",
      "\n",
      "\n",
      "\n",
      "\n",
      "\n",
      "\n",
      "\n",
      "\n",
      "\n",
      "\n",
      "\n",
      "\n",
      "\n",
      "\n",
      "\n",
      "\n",
      "\n",
      "\n",
      "\n",
      "\n",
      "\n",
      "\n",
      "\n",
      "\n",
      "\n",
      "\n",
      "\n",
      "\n",
      "\n",
      "\n",
      "\n",
      "\n",
      "\n",
      "\n",
      "\n",
      "\n",
      "\n",
      "\n",
      "\n",
      "\n",
      "\n",
      "\n",
      "\n",
      "\n",
      "\n",
      "\n",
      "\n",
      "\n",
      "\n",
      "\n",
      "\n",
      "\n",
      "\n",
      "\n",
      "\n",
      "\n",
      "\n",
      "\n",
      "\n",
      "\n",
      "\n",
      "\n",
      "\n",
      "\n",
      "\n",
      "\n",
      "\n",
      "\n",
      "\n",
      "\n",
      "\n",
      "\n",
      "\n",
      "\n",
      "\n",
      "\n",
      "\n",
      "\n",
      "\n",
      "\n",
      "\n",
      "\n",
      "\n",
      "\n",
      "\n",
      "\n",
      "\n",
      "\n",
      "\n",
      "\n",
      "\n",
      "\n",
      "\n",
      "\n",
      "\n",
      "\n",
      "\n",
      "\n",
      "\n",
      "\n",
      "\n",
      "\n",
      "\n",
      "\n",
      "\n",
      "\n",
      "\n",
      "\n",
      "\n",
      "\n",
      "\n",
      "\n",
      "\n",
      "\n",
      "\n",
      "\n",
      "\n",
      "\n",
      "\n"
     ]
    }
   ],
   "source": [
    "for phrase in tam.iter(tei('w')):\n",
    "    content = word.text\n",
    "    for child in word:\n",
    "        content = content + child.tail\n",
    "    print(content)"
   ]
  },
  {
   "cell_type": "markdown",
   "metadata": {},
   "source": [
    "Now that's looking better. We have a bunch of text, and now all we need to do is tokenize it! For this we can come back to the function that we wrote earlier, `tokenize`. Let's plug each of these bits of content in turn into our tokenizer, and see what we get."
   ]
  },
  {
   "cell_type": "code",
   "execution_count": 12,
   "metadata": {},
   "outputs": [
    {
     "ename": "NameError",
     "evalue": "name 'tokenize' is not defined",
     "output_type": "error",
     "traceback": [
      "\u001b[1;31m---------------------------------------------------------------------------\u001b[0m",
      "\u001b[1;31mNameError\u001b[0m                                 Traceback (most recent call last)",
      "\u001b[1;32m<ipython-input-12-8bc0ffa6e5ae>\u001b[0m in \u001b[0;36m<module>\u001b[1;34m()\u001b[0m\n\u001b[0;32m      5\u001b[0m     \u001b[1;32mfor\u001b[0m \u001b[0mchild\u001b[0m \u001b[1;32min\u001b[0m \u001b[0mword\u001b[0m\u001b[1;33m:\u001b[0m\u001b[1;33m\u001b[0m\u001b[0m\n\u001b[0;32m      6\u001b[0m         \u001b[0mcontent\u001b[0m \u001b[1;33m=\u001b[0m \u001b[0mcontent\u001b[0m \u001b[1;33m+\u001b[0m \u001b[0mchild\u001b[0m\u001b[1;33m.\u001b[0m\u001b[0mtail\u001b[0m\u001b[1;33m\u001b[0m\u001b[0m\n\u001b[1;32m----> 7\u001b[1;33m     \u001b[0mtokens\u001b[0m\u001b[1;33m.\u001b[0m\u001b[0mextend\u001b[0m\u001b[1;33m(\u001b[0m\u001b[0mtokenize\u001b[0m\u001b[1;33m(\u001b[0m\u001b[0mcontent\u001b[0m\u001b[1;33m)\u001b[0m\u001b[1;33m)\u001b[0m\u001b[1;33m\u001b[0m\u001b[0m\n\u001b[0m\u001b[0;32m      8\u001b[0m \u001b[1;33m\u001b[0m\u001b[0m\n\u001b[0;32m      9\u001b[0m \u001b[0mprint\u001b[0m\u001b[1;33m(\u001b[0m\u001b[0mtokens\u001b[0m\u001b[1;33m)\u001b[0m\u001b[1;33m\u001b[0m\u001b[0m\n",
      "\u001b[1;31mNameError\u001b[0m: name 'tokenize' is not defined"
     ]
    }
   ],
   "source": [
    "tokens = []\n",
    "\n",
    "for phrase in tam.iter(tei('w')):\n",
    "    content = word.text\n",
    "    for child in word:\n",
    "        content = content + child.tail\n",
    "    tokens.extend(tokenize(content))\n",
    "    \n",
    "print(tokens)"
   ]
  },
  {
   "cell_type": "markdown",
   "metadata": {},
   "source": [
    "### Adding complexity\n",
    "\n",
    "As XML tokenization goes, this one was pretty straightforward - all your text was in `<phr>` elements, and none of the text was in any child element, so we were able to get by with a combination of `.text` and `.tail` for the elements we encountered. What if our markup isn't so simple? What do we do?\n",
    "\n",
    "Here is where you start to really have to grapple with the fact that TEI allows a thousand encoding variations to bloom. In order to tokenize your particular text, you will have to think about what you encoded and how, and what \"counts\" as text you want to extract.\n",
    "\n",
    "IN the file `ozymandias_2.xml` I have provided a simple example of this. Here the encoder chose to add the canonical spelling for the word \"desert\" in a `<corr>` element, as part of a `<choice>`. If I tokenize that file in the same way as above, here is what I get."
   ]
  },
  {
   "cell_type": "code",
   "execution_count": null,
   "metadata": {
    "collapsed": true
   },
   "outputs": [],
   "source": [
    "with open('ozymandias_2.xml', encoding='utf-8') as f:\n",
    "    ozzy2 = etree.parse(f)\n",
    "    \n",
    "print(etree.tostring(ozzy2).decode('utf-8'))"
   ]
  },
  {
   "cell_type": "code",
   "execution_count": null,
   "metadata": {
    "collapsed": true
   },
   "outputs": [],
   "source": [
    "tokens = []\n",
    "\n",
    "for phrase in ozzy2.iter(tei('phr')):\n",
    "    content = phrase.text\n",
    "    for child in phrase:\n",
    "        content = content + child.tail\n",
    "    tokens.extend(tokenize(content))\n",
    "    \n",
    "print(tokens)"
   ]
  },
  {
   "cell_type": "markdown",
   "metadata": {},
   "source": [
    "Notice that I have neither \"desert\" nor \"desart\"! That is because, while I got the tail of the `<choice>` element, I didn't look inside it, and I didn't visit the `<sic>` or `<corr>` elements at all. I have to make my logic a little more complex, and I also have to think about which alternative I want. Let's say that I want to stay relatively true to the original. Here is the sort of thing I would have to do."
   ]
  },
  {
   "cell_type": "code",
   "execution_count": 56,
   "metadata": {},
   "outputs": [
    {
     "name": "stdout",
     "output_type": "stream",
     "text": [
      "[{'t': 'I'}, {'t': 'met'}, {'t': 'a'}, {'t': 'traveller'}, {'t': 'from'}, {'t': 'an'}, {'t': 'antique'}, {'t': 'land'}, {'t': ','}, {'t': 'Who'}, {'t': 'said'}, {'t': '—'}, {'t': 'Two'}, {'t': 'vast'}, {'t': 'and'}, {'t': 'trunkless'}, {'t': 'legs'}, {'t': 'of'}, {'t': 'stone'}, {'t': 'Stand'}, {'t': 'in'}, {'t': 'the'}, {'t': 'desert'}, {'t': '....'}, {'t': 'Near'}, {'t': 'them'}, {'t': ','}, {'t': 'on'}, {'t': 'the'}, {'t': 'sand'}, {'t': ','}, {'t': 'Half'}, {'t': 'sunk'}, {'t': 'a'}, {'t': 'shattered'}, {'t': 'visage'}, {'t': 'lies'}, {'t': ','}, {'t': 'whose'}, {'t': 'frown'}, {'t': ','}, {'t': 'And'}, {'t': 'wrinkled'}, {'t': 'lip'}, {'t': ','}, {'t': 'and'}, {'t': 'sneer'}, {'t': 'of'}, {'t': 'cold'}, {'t': 'command'}, {'t': ','}, {'t': 'Tell'}, {'t': 'that'}, {'t': 'its'}, {'t': 'sculptor'}, {'t': 'well'}, {'t': 'those'}, {'t': 'passions'}, {'t': 'read'}, {'t': 'Which'}, {'t': 'yet'}, {'t': 'survive'}, {'t': ','}, {'t': 'stamped'}, {'t': 'on'}, {'t': 'these'}, {'t': 'lifeless'}, {'t': 'things'}, {'t': ','}, {'t': 'The'}, {'t': 'hand'}, {'t': 'that'}, {'t': 'mocked'}, {'t': 'them'}, {'t': ','}, {'t': 'and'}, {'t': 'the'}, {'t': 'heart'}, {'t': 'that'}, {'t': 'fed'}, {'t': ';'}, {'t': 'And'}, {'t': 'on'}, {'t': 'the'}, {'t': 'pedestal'}, {'t': ','}, {'t': 'these'}, {'t': 'words'}, {'t': 'appear'}, {'t': ':'}, {'t': 'My'}, {'t': 'name'}, {'t': 'is'}, {'t': 'Ozymandias'}, {'t': ','}, {'t': 'King'}, {'t': 'of'}, {'t': 'Kings'}, {'t': ','}, {'t': 'Look'}, {'t': 'on'}, {'t': 'my'}, {'t': 'Works'}, {'t': ','}, {'t': 'ye'}, {'t': 'Mighty'}, {'t': ','}, {'t': 'and'}, {'t': 'despair'}, {'t': '!'}, {'t': 'Nothing'}, {'t': 'beside'}, {'t': 'remains'}, {'t': '.'}, {'t': 'Round'}, {'t': 'the'}, {'t': 'decay'}, {'t': 'Of'}, {'t': 'that'}, {'t': 'colossal'}, {'t': 'Wreck'}, {'t': ','}, {'t': 'boundless'}, {'t': 'and'}, {'t': 'bare'}, {'t': 'The'}, {'t': 'lone'}, {'t': 'and'}, {'t': 'level'}, {'t': 'sands'}, {'t': 'stretch'}, {'t': 'far'}, {'t': 'away'}, {'t': '.”'}]\n"
     ]
    }
   ],
   "source": [
    "tokens = []\n",
    "\n",
    "for phrase in ozzy2.iter(tei('phr')):\n",
    "    content = phrase.text\n",
    "    for child in phrase:\n",
    "        if child.tag == tei('choice'):\n",
    "            ## We know there is only one 'sic' element, but\n",
    "            ## etree won't assume that! So we have to deal\n",
    "            ## with \"all\" of them.\n",
    "            for corr in child.iter(tei('corr')):\n",
    "                content = content + corr.text\n",
    "        content = content + child.tail\n",
    "    tokens.extend(tokenize(content))\n",
    "    \n",
    "print(tokens)"
   ]
  },
  {
   "cell_type": "markdown",
   "metadata": {},
   "source": [
    "Voilà, we have our des[ae]rt back!\n",
    "\n",
    "### Exercise 1\n",
    "\n",
    "Change the code above so that you get the corrected version of the word instead.\n",
    "\n",
    "### Exercise 2, in pairs\n",
    "\n",
    "Re-define the `tokenize` function so that it treats that opening quote in the second line (\"Two vast and trunkless...) as its own token. You will need to tweak the regular expression.\n",
    "\n",
    "### Exercise 3 (when you are feeling brave)\n",
    "\n",
    "Write some code that will parse your own XML markup from yesterday and tokenize it!"
   ]
  },
  {
   "cell_type": "markdown",
   "metadata": {},
   "source": [
    "- - -\n",
    "Updated 2017-07-18 by tla. Sydney workshop version is at https://github.com/ljo/collatex-tutorial/blob/master/unit4/Tokenization.ipynb."
   ]
  }
 ],
 "metadata": {
  "anaconda-cloud": {},
  "kernelspec": {
   "display_name": "Python 3",
   "language": "python",
   "name": "python3"
  },
  "language_info": {
   "codemirror_mode": {
    "name": "ipython",
    "version": 3
   },
   "file_extension": ".py",
   "mimetype": "text/x-python",
   "name": "python",
   "nbconvert_exporter": "python",
   "pygments_lexer": "ipython3",
   "version": "3.6.1"
  }
 },
 "nbformat": 4,
 "nbformat_minor": 1
}
